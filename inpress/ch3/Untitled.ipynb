{
 "cells": [
  {
   "cell_type": "code",
   "execution_count": 1,
   "metadata": {},
   "outputs": [],
   "source": [
    "import requests\n",
    "from bs4 import BeautifulSoup\n"
   ]
  },
  {
   "cell_type": "code",
   "execution_count": 2,
   "metadata": {},
   "outputs": [],
   "source": [
    "url = 'https://en.wikipedia.org/w/index.php' + \\\n",
    "    '?title=List_of_Game_of_Thrones_episodes&oldid=802553687'\n"
   ]
  },
  {
   "cell_type": "code",
   "execution_count": 3,
   "metadata": {},
   "outputs": [],
   "source": [
    "r = requests.get(url)"
   ]
  },
  {
   "cell_type": "code",
   "execution_count": 6,
   "metadata": {},
   "outputs": [],
   "source": [
    "html_content = r.text"
   ]
  },
  {
   "cell_type": "code",
   "execution_count": 7,
   "metadata": {},
   "outputs": [],
   "source": [
    "html_soup = BeautifulSoup(html_content, 'html.parser')"
   ]
  },
  {
   "cell_type": "code",
   "execution_count": 8,
   "metadata": {},
   "outputs": [
    {
     "data": {
      "text/plain": [
       "<h1 class=\"firstHeading\" id=\"firstHeading\" lang=\"en\">List of <i>Game of Thrones</i> episodes</h1>"
      ]
     },
     "execution_count": 8,
     "metadata": {},
     "output_type": "execute_result"
    }
   ],
   "source": [
    "html_soup.find('h1')"
   ]
  },
  {
   "cell_type": "code",
   "execution_count": 10,
   "metadata": {},
   "outputs": [
    {
     "data": {
      "text/plain": [
       "[<h1 class=\"firstHeading\" id=\"firstHeading\" lang=\"en\">List of <i>Game of Thrones</i> episodes</h1>]"
      ]
     },
     "execution_count": 10,
     "metadata": {},
     "output_type": "execute_result"
    }
   ],
   "source": [
    "html_soup.find_all('h1')"
   ]
  },
  {
   "cell_type": "code",
   "execution_count": 12,
   "metadata": {},
   "outputs": [],
   "source": [
    "ps =html_soup.find_all('p')"
   ]
  },
  {
   "cell_type": "code",
   "execution_count": 13,
   "metadata": {},
   "outputs": [
    {
     "data": {
      "text/plain": [
       "6"
      ]
     },
     "execution_count": 13,
     "metadata": {},
     "output_type": "execute_result"
    }
   ],
   "source": [
    "len(ps)"
   ]
  },
  {
   "cell_type": "code",
   "execution_count": 14,
   "metadata": {},
   "outputs": [
    {
     "name": "stdout",
     "output_type": "stream",
     "text": [
      "[<p><b>This is an <a href=\"/wiki/Help:Page_history\" title=\"Help:Page history\">old revision</a> of this page, as edited by <span id=\"mw-revision-name\"><a class=\"mw-userlink\" href=\"/wiki/User:Alex_21\" title=\"User:Alex 21\"><bdi>Alex 21</bdi></a> <span class=\"mw-usertoollinks\">(<a class=\"mw-usertoollinks-talk\" href=\"/wiki/User_talk:Alex_21\" title=\"User talk:Alex 21\">talk</a> | <a class=\"mw-usertoollinks-contribs\" href=\"/wiki/Special:Contributions/Alex_21\" title=\"Special:Contributions/Alex 21\">contribs</a>)</span></span> at <span id=\"mw-revision-date\">22:27, 26 September 2017</span><span id=\"mw-revision-summary\"> <span class=\"comment\">(Work on article at <a class=\"mw-redirect\" href=\"/wiki/Draft:Game_of_Thrones_(season_8)\" title=\"Draft:Game of Thrones (season 8)\">Draft:Game of Thrones (season 8)</a>)</span></span>. The present address (URL) is a <a href=\"/wiki/Help:Permanent_link\" title=\"Help:Permanent link\">permanent link</a> to this revision, which may differ significantly from the <span class=\"plainlinks\"><a class=\"external text\" href=\"https://en.wikipedia.org/wiki/List_of_Game_of_Thrones_episodes\">current revision</a></span>.</b></p>, <p><i><a href=\"/wiki/Game_of_Thrones\" title=\"Game of Thrones\">Game of Thrones</a></i> is an American <a href=\"/wiki/Fantasy\" title=\"Fantasy\">fantasy</a> <a class=\"mw-redirect\" href=\"/wiki/Television_drama\" title=\"Television drama\">drama</a> television series created by <a href=\"/wiki/David_Benioff\" title=\"David Benioff\">David Benioff</a> and <a href=\"/wiki/D._B._Weiss\" title=\"D. B. Weiss\">D. B. Weiss</a>. The series is based on the <i><a href=\"/wiki/A_Song_of_Ice_and_Fire\" title=\"A Song of Ice and Fire\">A Song of Ice and Fire</a></i> novels by author <a href=\"/wiki/George_R._R._Martin\" title=\"George R. R. Martin\">George R. R. Martin</a>. The series takes place on the fictional continents of <a class=\"mw-redirect\" href=\"/wiki/Westeros\" title=\"Westeros\">Westeros</a> and <a class=\"mw-redirect\" href=\"/wiki/Essos\" title=\"Essos\">Essos</a> and chronicles the power struggles among noble families as they fight for control of the <a href=\"/wiki/Iron_Throne_(A_Song_of_Ice_and_Fire)\" title=\"Iron Throne (A Song of Ice and Fire)\">Iron Throne</a> of the Seven Kingdoms. The series starts when <a class=\"mw-redirect\" href=\"/wiki/Characters_in_A_Song_of_Ice_and_Fire#House_Stark,_retainers,_and_bannermen\" title=\"Characters in A Song of Ice and Fire\">House Stark</a>, led by <a href=\"/wiki/Ned_Stark\" title=\"Ned Stark\">Lord Eddard \"Ned\" Stark</a> (<a href=\"/wiki/Sean_Bean\" title=\"Sean Bean\">Sean Bean</a>) is drawn into schemes against <a href=\"/wiki/Robert_Baratheon\" title=\"Robert Baratheon\">King Robert Baratheon</a> (<a href=\"/wiki/Mark_Addy\" title=\"Mark Addy\">Mark Addy</a>) when the Hand of the King <a class=\"mw-redirect\" href=\"/wiki/Jon_Arryn\" title=\"Jon Arryn\">Jon Arryn</a> (Robert's chief advisor) dies mysteriously.<sup class=\"reference\" id=\"cite_ref-1\"><a href=\"#cite_note-1\">[1]</a></sup>\n",
      "</p>, <p>The series premiered on April 17, 2011, on <a href=\"/wiki/HBO\" title=\"HBO\">HBO</a>. David Benioff and D. B. Weiss both serve as executive producers along with <a href=\"/wiki/Carolyn_Strauss\" title=\"Carolyn Strauss\">Carolyn Strauss</a>, Frank Doelger, <a href=\"/wiki/Bernadette_Caulfield\" title=\"Bernadette Caulfield\">Bernadette Caulfield</a> and George R. R. Martin.<sup class=\"reference\" id=\"cite_ref-2\"><a href=\"#cite_note-2\">[2]</a></sup><sup class=\"reference\" id=\"cite_ref-emmys.com_3-0\"><a href=\"#cite_note-emmys.com-3\">[3]</a></sup> Filming for the series has taken place in a number of locations, including Croatia, Northern Ireland, Iceland and Spain.<sup class=\"reference\" id=\"cite_ref-4\"><a href=\"#cite_note-4\">[4]</a></sup><sup class=\"reference\" id=\"cite_ref-5\"><a href=\"#cite_note-5\">[5]</a></sup><sup class=\"reference\" id=\"cite_ref-6\"><a href=\"#cite_note-6\">[6]</a></sup> Episodes are broadcast on Sunday at 9:00 pm Eastern Time,<sup class=\"reference\" id=\"cite_ref-7\"><a href=\"#cite_note-7\">[7]</a></sup><sup class=\"reference\" id=\"cite_ref-8\"><a href=\"#cite_note-8\">[8]</a></sup> and the episodes are between 50 and 81 minutes in length.<sup class=\"reference\" id=\"cite_ref-9\"><a href=\"#cite_note-9\">[9]</a></sup> The first six seasons are available on DVD and <a href=\"/wiki/Blu-ray\" title=\"Blu-ray\">Blu-ray</a>.\n",
      "</p>, <p>The series was renewed for a seventh season in April 2016,<sup class=\"reference\" id=\"cite_ref-s7_renewed_10-0\"><a href=\"#cite_note-s7_renewed-10\">[10]</a></sup> which premiered on July 16, 2017 and consisted of seven episodes.<sup class=\"reference\" id=\"cite_ref-HBO_confirms_11-0\"><a href=\"#cite_note-HBO_confirms-11\">[11]</a></sup> The series will conclude with its eighth season, which will consist of six episodes.<sup class=\"reference\" id=\"cite_ref-12\"><a href=\"#cite_note-12\">[12]</a></sup><sup class=\"reference\" id=\"cite_ref-13\"><a href=\"#cite_note-13\">[13]</a></sup> As of August 27, 2017,<sup class=\"plainlinks noexcerpt noprint asof-tag update\" style=\"display:none;\"><a class=\"external text\" href=\"https://en.wikipedia.org/w/index.php?title=List_of_Game_of_Thrones_episodes&amp;action=edit\">[update]</a></sup> 73 episodes of <i>Game of Thrones</i> have aired, concluding the seventh season. The show's episodes have won numerous <a href=\"/wiki/List_of_awards_and_nominations_received_by_Game_of_Thrones\" title=\"List of awards and nominations received by Game of Thrones\">awards</a> including two <a href=\"/wiki/Primetime_Emmy_Award_for_Outstanding_Drama_Series\" title=\"Primetime Emmy Award for Outstanding Drama Series\">Primetime Emmy Award for Outstanding Drama Series</a>.<sup class=\"reference\" id=\"cite_ref-emmys.com_3-1\"><a href=\"#cite_note-emmys.com-3\">[3]</a></sup>\n",
      "</p>, <p><a class=\"new\" href=\"/w/index.php?title=Template:Game_of_Thrones_ratings&amp;action=edit&amp;redlink=1\" title=\"Template:Game of Thrones ratings (page does not exist)\">Template:Game of Thrones ratings</a>\n",
      "</p>, <p class=\"mw-empty-elt\">\n",
      "</p>]\n"
     ]
    }
   ],
   "source": [
    "print(ps)"
   ]
  },
  {
   "cell_type": "code",
   "execution_count": 15,
   "metadata": {},
   "outputs": [
    {
     "data": {
      "text/plain": [
       "<p><b>This is an <a href=\"/wiki/Help:Page_history\" title=\"Help:Page history\">old revision</a> of this page, as edited by <span id=\"mw-revision-name\"><a class=\"mw-userlink\" href=\"/wiki/User:Alex_21\" title=\"User:Alex 21\"><bdi>Alex 21</bdi></a> <span class=\"mw-usertoollinks\">(<a class=\"mw-usertoollinks-talk\" href=\"/wiki/User_talk:Alex_21\" title=\"User talk:Alex 21\">talk</a> | <a class=\"mw-usertoollinks-contribs\" href=\"/wiki/Special:Contributions/Alex_21\" title=\"Special:Contributions/Alex 21\">contribs</a>)</span></span> at <span id=\"mw-revision-date\">22:27, 26 September 2017</span><span id=\"mw-revision-summary\"> <span class=\"comment\">(Work on article at <a class=\"mw-redirect\" href=\"/wiki/Draft:Game_of_Thrones_(season_8)\" title=\"Draft:Game of Thrones (season 8)\">Draft:Game of Thrones (season 8)</a>)</span></span>. The present address (URL) is a <a href=\"/wiki/Help:Permanent_link\" title=\"Help:Permanent link\">permanent link</a> to this revision, which may differ significantly from the <span class=\"plainlinks\"><a class=\"external text\" href=\"https://en.wikipedia.org/wiki/List_of_Game_of_Thrones_episodes\">current revision</a></span>.</b></p>"
      ]
     },
     "execution_count": 15,
     "metadata": {},
     "output_type": "execute_result"
    }
   ],
   "source": [
    "ps[0]"
   ]
  },
  {
   "cell_type": "code",
   "execution_count": 16,
   "metadata": {},
   "outputs": [
    {
     "data": {
      "text/plain": [
       "<p><i><a href=\"/wiki/Game_of_Thrones\" title=\"Game of Thrones\">Game of Thrones</a></i> is an American <a href=\"/wiki/Fantasy\" title=\"Fantasy\">fantasy</a> <a class=\"mw-redirect\" href=\"/wiki/Television_drama\" title=\"Television drama\">drama</a> television series created by <a href=\"/wiki/David_Benioff\" title=\"David Benioff\">David Benioff</a> and <a href=\"/wiki/D._B._Weiss\" title=\"D. B. Weiss\">D. B. Weiss</a>. The series is based on the <i><a href=\"/wiki/A_Song_of_Ice_and_Fire\" title=\"A Song of Ice and Fire\">A Song of Ice and Fire</a></i> novels by author <a href=\"/wiki/George_R._R._Martin\" title=\"George R. R. Martin\">George R. R. Martin</a>. The series takes place on the fictional continents of <a class=\"mw-redirect\" href=\"/wiki/Westeros\" title=\"Westeros\">Westeros</a> and <a class=\"mw-redirect\" href=\"/wiki/Essos\" title=\"Essos\">Essos</a> and chronicles the power struggles among noble families as they fight for control of the <a href=\"/wiki/Iron_Throne_(A_Song_of_Ice_and_Fire)\" title=\"Iron Throne (A Song of Ice and Fire)\">Iron Throne</a> of the Seven Kingdoms. The series starts when <a class=\"mw-redirect\" href=\"/wiki/Characters_in_A_Song_of_Ice_and_Fire#House_Stark,_retainers,_and_bannermen\" title=\"Characters in A Song of Ice and Fire\">House Stark</a>, led by <a href=\"/wiki/Ned_Stark\" title=\"Ned Stark\">Lord Eddard \"Ned\" Stark</a> (<a href=\"/wiki/Sean_Bean\" title=\"Sean Bean\">Sean Bean</a>) is drawn into schemes against <a href=\"/wiki/Robert_Baratheon\" title=\"Robert Baratheon\">King Robert Baratheon</a> (<a href=\"/wiki/Mark_Addy\" title=\"Mark Addy\">Mark Addy</a>) when the Hand of the King <a class=\"mw-redirect\" href=\"/wiki/Jon_Arryn\" title=\"Jon Arryn\">Jon Arryn</a> (Robert's chief advisor) dies mysteriously.<sup class=\"reference\" id=\"cite_ref-1\"><a href=\"#cite_note-1\">[1]</a></sup>\n",
       "</p>"
      ]
     },
     "execution_count": 16,
     "metadata": {},
     "output_type": "execute_result"
    }
   ],
   "source": [
    "ps[1]"
   ]
  },
  {
   "cell_type": "code",
   "execution_count": null,
   "metadata": {},
   "outputs": [],
   "source": []
  }
 ],
 "metadata": {
  "kernelspec": {
   "display_name": "Python 3",
   "language": "python",
   "name": "python3"
  },
  "language_info": {
   "codemirror_mode": {
    "name": "ipython",
    "version": 3
   },
   "file_extension": ".py",
   "mimetype": "text/x-python",
   "name": "python",
   "nbconvert_exporter": "python",
   "pygments_lexer": "ipython3",
   "version": "3.7.6"
  }
 },
 "nbformat": 4,
 "nbformat_minor": 4
}
