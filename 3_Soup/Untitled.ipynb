{
 "cells": [
  {
   "cell_type": "code",
   "execution_count": 1,
   "metadata": {},
   "outputs": [],
   "source": [
    "import requests\n",
    "import lxml.html\n",
    "\n",
    "response = requests.get('https://gihyo.jp/dp')\n",
    "html = lxml.html.fromstring(response.text)\n",
    "html.make_links_absolute(response.url)\n",
    "\n"
   ]
  },
  {
   "cell_type": "code",
   "execution_count": 4,
   "metadata": {},
   "outputs": [
    {
     "data": {
      "text/plain": [
       "[<Element a at 0x7f216502c8f0>,\n",
       " <Element a at 0x7f216502cb90>,\n",
       " <Element a at 0x7f216502cd70>,\n",
       " <Element a at 0x7f216502cdd0>,\n",
       " <Element a at 0x7f216502ce30>,\n",
       " <Element a at 0x7f216502ce90>,\n",
       " <Element a at 0x7f216502cef0>,\n",
       " <Element a at 0x7f216502cf50>,\n",
       " <Element a at 0x7f216502ccb0>,\n",
       " <Element a at 0x7f2165047050>,\n",
       " <Element a at 0x7f21650470b0>,\n",
       " <Element a at 0x7f2165047110>,\n",
       " <Element a at 0x7f2165047170>,\n",
       " <Element a at 0x7f21650471d0>,\n",
       " <Element a at 0x7f2165047230>,\n",
       " <Element a at 0x7f2165047290>,\n",
       " <Element a at 0x7f21650472f0>,\n",
       " <Element a at 0x7f2165047350>,\n",
       " <Element a at 0x7f21650473b0>,\n",
       " <Element a at 0x7f2165047410>,\n",
       " <Element a at 0x7f2165047470>,\n",
       " <Element a at 0x7f21650474d0>,\n",
       " <Element a at 0x7f2165047530>,\n",
       " <Element a at 0x7f2165047590>,\n",
       " <Element a at 0x7f21650475f0>,\n",
       " <Element a at 0x7f2165047650>,\n",
       " <Element a at 0x7f21650476b0>,\n",
       " <Element a at 0x7f2165047710>,\n",
       " <Element a at 0x7f2165047770>,\n",
       " <Element a at 0x7f21650477d0>]"
      ]
     },
     "execution_count": 4,
     "metadata": {},
     "output_type": "execute_result"
    }
   ],
   "source": [
    "html.cssselect('#listBook>li>a[itemprop=\"url\"]')"
   ]
  },
  {
   "cell_type": "code",
   "execution_count": 5,
   "metadata": {},
   "outputs": [
    {
     "name": "stdout",
     "output_type": "stream",
     "text": [
      "https://gihyo.jp/dp/ebook/2020/978-4-297-11449-7\n",
      "https://gihyo.jp/dp/ebook/2020/978-4-297-11443-5\n",
      "https://gihyo.jp/dp/ebook/2020/978-4-297-11467-1\n",
      "https://gihyo.jp/dp/ebook/2020/978-4-297-11380-3\n",
      "https://gihyo.jp/dp/ebook/2020/978-4-297-11376-6\n",
      "https://gihyo.jp/dp/ebook/2020/978-4-297-11366-7\n",
      "https://gihyo.jp/dp/ebook/2020/978-4-297-11402-2\n",
      "https://gihyo.jp/dp/ebook/2020/978-4-297-11398-8\n",
      "https://gihyo.jp/dp/ebook/2020/978-4-297-11282-0\n",
      "https://gihyo.jp/dp/ebook/2020/978-4-297-11382-7\n",
      "https://gihyo.jp/dp/ebook/2020/978-4-297-11390-2\n",
      "https://gihyo.jp/dp/ebook/2020/978-4-297-11388-9\n",
      "https://gihyo.jp/dp/ebook/2020/978-4-297-11386-5\n",
      "https://gihyo.jp/dp/ebook/2020/978-4-297-11406-0\n",
      "https://gihyo.jp/dp/ebook/2020/978-4-297-11408-4\n",
      "https://gihyo.jp/dp/ebook/2020/978-4-297-11246-2\n",
      "https://gihyo.jp/dp/ebook/2020/978-4-297-11457-2\n",
      "https://gihyo.jp/dp/ebook/2020/978-4-297-11459-6\n",
      "https://gihyo.jp/dp/ebook/2020/978-4-297-11461-9\n",
      "https://gihyo.jp/dp/ebook/2020/978-4-297-11378-0\n",
      "https://gihyo.jp/dp/ebook/2020/978-4-297-11372-8\n",
      "https://gihyo.jp/dp/ebook/2020/978-4-297-11275-2\n",
      "https://gihyo.jp/dp/ebook/2020/978-4-297-11352-0\n",
      "https://gihyo.jp/dp/ebook/2020/978-4-297-11404-6\n",
      "https://gihyo.jp/dp/ebook/2020/978-4-297-11256-1\n",
      "https://gihyo.jp/dp/ebook/2020/978-4-297-10775-8\n",
      "https://gihyo.jp/dp/ebook/2020/978-4-297-11350-6\n",
      "https://gihyo.jp/dp/ebook/2020/978-4-297-11396-4\n",
      "https://gihyo.jp/dp/ebook/2020/978-4-297-11260-8\n",
      "https://gihyo.jp/dp/ebook/2020/978-4-297-11358-2\n"
     ]
    }
   ],
   "source": [
    "for a in html.cssselect('#listBook>li>a[itemprop=\"url\"]'):\n",
    "    url = a.get('href')\n",
    "    print(url)"
   ]
  },
  {
   "cell_type": "code",
   "execution_count": null,
   "metadata": {},
   "outputs": [],
   "source": []
  }
 ],
 "metadata": {
  "kernelspec": {
   "display_name": "Python 3",
   "language": "python",
   "name": "python3"
  },
  "language_info": {
   "codemirror_mode": {
    "name": "ipython",
    "version": 3
   },
   "file_extension": ".py",
   "mimetype": "text/x-python",
   "name": "python",
   "nbconvert_exporter": "python",
   "pygments_lexer": "ipython3",
   "version": "3.7.6"
  }
 },
 "nbformat": 4,
 "nbformat_minor": 4
}
