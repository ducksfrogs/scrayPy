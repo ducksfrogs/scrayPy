{
 "cells": [
  {
   "cell_type": "code",
   "execution_count": 1,
   "metadata": {},
   "outputs": [],
   "source": [
    "import re\n",
    "import time\n",
    "from typing import Iterator\n",
    "import requests\n",
    "import lxml.html\n",
    "from pymongo import MongoClient\n"
   ]
  },
  {
   "cell_type": "code",
   "execution_count": 11,
   "metadata": {},
   "outputs": [],
   "source": [
    "def scrape_list_page(response: requests.Response) -> Iterator[str]:\n",
    "    \"\"\"\n",
    "    一覧ページのResponseから詳細ページのURLを抜き出すジェネレーター関数\n",
    "    \"\"\"\n",
    "    html = lxml.html.fromstring(response.text)\n",
    "    html.make_links_absolute(response.url)\n",
    "\n",
    "    for a in html.cssselect('#listBook>li>a[itemprop=\"url\"]'):\n",
    "        url = a.get('href')\n",
    "        yield url\n",
    "\n",
    "\n",
    "def scrape_detail_page(response: requests.Response) -> dict:\n",
    "    \"\"\"\n",
    "    詳細ページのResponseから電子書籍の情報をdictで取得する\n",
    "    \"\"\"\n",
    "    html = lxml.html.fromstring(response.text)\n",
    "    ebook = {\n",
    "        'url': response.url,\n",
    "        'key': extract_key(response.url),\n",
    "        'title': html.cssselect('#bookTitle')[0].text_content(),\n",
    "        'price': html.cssselect('.buy')[0].text.strip(),\n",
    "        'content': [normalize_spaces(h3.text_content()) for h3 in html.cssselect('#content > h3')],\n",
    "    }\n",
    "    return ebook\n",
    "\n",
    "def extract_key(url: str) -> str:\n",
    "    m = re.search(r'/([^/]+)$', url)\n",
    "    return m.group(1)\n",
    "\n",
    "def normalize_spaces(s: str) -> str:\n",
    "    \"\"\"\n",
    "    連続する空白を1つのスペースに置き換え、前後の空白を削除した新しい文字列を取得する\n",
    "    \"\"\"\n",
    "    return re.sub(r'\\s+', ' ', s).strip()\n"
   ]
  },
  {
   "cell_type": "code",
   "execution_count": 5,
   "metadata": {},
   "outputs": [
    {
     "data": {
      "text/plain": [
       "'key_1'"
      ]
     },
     "execution_count": 5,
     "metadata": {},
     "output_type": "execute_result"
    }
   ],
   "source": [
    "client = MongoClient('localhost', 27017)\n",
    "collection = client.scraping.ebooks\n",
    "collection.create_index('key', unique=True)"
   ]
  },
  {
   "cell_type": "code",
   "execution_count": 6,
   "metadata": {},
   "outputs": [],
   "source": [
    "session = requests.Session()\n",
    "response = session.get('https://gihyo.jp/dp')\n",
    "urls = scrape_list_page(response)"
   ]
  },
  {
   "cell_type": "code",
   "execution_count": 12,
   "metadata": {},
   "outputs": [],
   "source": [
    "for url in urls:\n",
    "    key = extract_key(url)\n",
    "    \n",
    "    #ebook = collection.find_one({'key': key})\n",
    "    #if not ebook:\n",
    "    #    time.sleep(1)\n",
    "    #    response = session.get(url)\n",
    "    #    ebook = scrape_detail_page(response)\n",
    "        #collection.insert_one(ebook)\n",
    "    print(key)"
   ]
  },
  {
   "cell_type": "code",
   "execution_count": 5,
   "metadata": {},
   "outputs": [],
   "source": [
    "session = requests.Session()\n",
    "response = session.get('https://gihyo.jp/dp')\n",
    "urls = scrape_list_page(response)"
   ]
  },
  {
   "cell_type": "code",
   "execution_count": 14,
   "metadata": {},
   "outputs": [
    {
     "ename": "TypeError",
     "evalue": "'generator' object is not subscriptable",
     "output_type": "error",
     "traceback": [
      "\u001b[0;31m---------------------------------------------------------------------------\u001b[0m",
      "\u001b[0;31mTypeError\u001b[0m                                 Traceback (most recent call last)",
      "\u001b[0;32m<ipython-input-14-63c6bdc19376>\u001b[0m in \u001b[0;36m<module>\u001b[0;34m\u001b[0m\n\u001b[0;32m----> 1\u001b[0;31m \u001b[0murls\u001b[0m\u001b[0;34m[\u001b[0m\u001b[0;36m0\u001b[0m\u001b[0;34m]\u001b[0m\u001b[0;34m\u001b[0m\u001b[0;34m\u001b[0m\u001b[0m\n\u001b[0m",
      "\u001b[0;31mTypeError\u001b[0m: 'generator' object is not subscriptable"
     ]
    }
   ],
   "source": [
    "urls[0]"
   ]
  },
  {
   "cell_type": "code",
   "execution_count": null,
   "metadata": {},
   "outputs": [],
   "source": []
  }
 ],
 "metadata": {
  "kernelspec": {
   "display_name": "Python 3",
   "language": "python",
   "name": "python3"
  },
  "language_info": {
   "codemirror_mode": {
    "name": "ipython",
    "version": 3
   },
   "file_extension": ".py",
   "mimetype": "text/x-python",
   "name": "python",
   "nbconvert_exporter": "python",
   "pygments_lexer": "ipython3",
   "version": "3.7.6"
  }
 },
 "nbformat": 4,
 "nbformat_minor": 4
}
