{
 "cells": [
  {
   "cell_type": "code",
   "execution_count": 1,
   "metadata": {},
   "outputs": [],
   "source": [
    "import time\n",
    "\n",
    "import requests\n",
    "\n",
    "TEMPORARA_ERROR_CODES = (400, 500, 502, 503, 504)\n",
    "\n",
    "def main():\n",
    "\n",
    "    response = fetch('http://httpbin.org/status/200,404,503')\n",
    "    if 200 <= response.status_code < 300:\n",
    "        print(\"Success!\")\n",
    "    else:\n",
    "        print(\"Error\")\n",
    "\n",
    "\n",
    "def fetch(url: str) -> requests.Response:\n",
    "    \"\"\"\n",
    "    指定したURLにリクエストを送り、\n",
    "    \"\"\"\n",
    "\n",
    "    max_retries = 3\n",
    "    retries = 0\n",
    "    while True:\n",
    "        try:\n",
    "            print(f'Retriving {url}...')\n",
    "            response = requests.get(url)\n",
    "            print(f'Status: {response.status_code}')\n",
    "            if response.status_code in TEMPORARA_ERROR_CODES:\n",
    "                return response\n",
    "\n",
    "        except requests.exceptions.RequestException as ex:\n",
    "            print(f'Network-level exception occured: {ex}')\n",
    "\n",
    "        retries +=1\n",
    "        if retries >= max_retries:\n",
    "            raise Exception(\"Too many retries\")\n",
    "\n",
    "        wait = 2**(retries-1)\n",
    "        print(f'waiting {wait} seconds...')\n",
    "        time.sleep(wait)\n",
    "\n",
    "        "
   ]
  },
  {
   "cell_type": "code",
   "execution_count": 3,
   "metadata": {},
   "outputs": [
    {
     "name": "stdout",
     "output_type": "stream",
     "text": [
      "Retriving http://httpbin.org/status/200,404,503...\n",
      "Status: 404\n",
      "waiting 1 seconds...\n",
      "Retriving http://httpbin.org/status/200,404,503...\n",
      "Status: 200\n",
      "waiting 2 seconds...\n",
      "Retriving http://httpbin.org/status/200,404,503...\n",
      "Status: 503\n",
      "Error\n"
     ]
    }
   ],
   "source": [
    "main()"
   ]
  },
  {
   "cell_type": "code",
   "execution_count": 5,
   "metadata": {},
   "outputs": [
    {
     "name": "stdout",
     "output_type": "stream",
     "text": [
      "Retriving http://httpbin.org/status/200,404,503...\n",
      "Status: 404\n",
      "waiting 1 seconds...\n",
      "Retriving http://httpbin.org/status/200,404,503...\n",
      "Status: 404\n",
      "waiting 2 seconds...\n",
      "Retriving http://httpbin.org/status/200,404,503...\n",
      "Status: 200\n"
     ]
    },
    {
     "ename": "Exception",
     "evalue": "Too many retries",
     "output_type": "error",
     "traceback": [
      "\u001b[0;31m---------------------------------------------------------------------------\u001b[0m",
      "\u001b[0;31mException\u001b[0m                                 Traceback (most recent call last)",
      "\u001b[0;32m<ipython-input-5-3e0e28246ce8>\u001b[0m in \u001b[0;36m<module>\u001b[0;34m\u001b[0m\n\u001b[0;32m----> 1\u001b[0;31m \u001b[0mresponse\u001b[0m \u001b[0;34m=\u001b[0m \u001b[0mfetch\u001b[0m\u001b[0;34m(\u001b[0m\u001b[0;34m'http://httpbin.org/status/200,404,503'\u001b[0m\u001b[0;34m)\u001b[0m\u001b[0;34m\u001b[0m\u001b[0;34m\u001b[0m\u001b[0m\n\u001b[0m",
      "\u001b[0;32m<ipython-input-1-5e7e24524567>\u001b[0m in \u001b[0;36mfetch\u001b[0;34m(url)\u001b[0m\n\u001b[1;32m     34\u001b[0m         \u001b[0mretries\u001b[0m \u001b[0;34m+=\u001b[0m\u001b[0;36m1\u001b[0m\u001b[0;34m\u001b[0m\u001b[0;34m\u001b[0m\u001b[0m\n\u001b[1;32m     35\u001b[0m         \u001b[0;32mif\u001b[0m \u001b[0mretries\u001b[0m \u001b[0;34m>=\u001b[0m \u001b[0mmax_retries\u001b[0m\u001b[0;34m:\u001b[0m\u001b[0;34m\u001b[0m\u001b[0;34m\u001b[0m\u001b[0m\n\u001b[0;32m---> 36\u001b[0;31m             \u001b[0;32mraise\u001b[0m \u001b[0mException\u001b[0m\u001b[0;34m(\u001b[0m\u001b[0;34m\"Too many retries\"\u001b[0m\u001b[0;34m)\u001b[0m\u001b[0;34m\u001b[0m\u001b[0;34m\u001b[0m\u001b[0m\n\u001b[0m\u001b[1;32m     37\u001b[0m \u001b[0;34m\u001b[0m\u001b[0m\n\u001b[1;32m     38\u001b[0m         \u001b[0mwait\u001b[0m \u001b[0;34m=\u001b[0m \u001b[0;36m2\u001b[0m\u001b[0;34m**\u001b[0m\u001b[0;34m(\u001b[0m\u001b[0mretries\u001b[0m\u001b[0;34m-\u001b[0m\u001b[0;36m1\u001b[0m\u001b[0;34m)\u001b[0m\u001b[0;34m\u001b[0m\u001b[0;34m\u001b[0m\u001b[0m\n",
      "\u001b[0;31mException\u001b[0m: Too many retries"
     ]
    }
   ],
   "source": [
    "\n",
    "response = fetch('http://httpbin.org/status/200,404,503')"
   ]
  },
  {
   "cell_type": "code",
   "execution_count": null,
   "metadata": {},
   "outputs": [],
   "source": []
  }
 ],
 "metadata": {
  "kernelspec": {
   "display_name": "Python 3",
   "language": "python",
   "name": "python3"
  },
  "language_info": {
   "codemirror_mode": {
    "name": "ipython",
    "version": 3
   },
   "file_extension": ".py",
   "mimetype": "text/x-python",
   "name": "python",
   "nbconvert_exporter": "python",
   "pygments_lexer": "ipython3",
   "version": "3.7.6"
  }
 },
 "nbformat": 4,
 "nbformat_minor": 4
}
