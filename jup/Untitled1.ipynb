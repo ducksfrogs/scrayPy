{
 "cells": [
  {
   "cell_type": "code",
   "execution_count": 54,
   "metadata": {},
   "outputs": [],
   "source": [
    "import requests\n",
    "import lxml.html"
   ]
  },
  {
   "cell_type": "code",
   "execution_count": 55,
   "metadata": {},
   "outputs": [],
   "source": [
    "response = requests.get('https://gihyo.jp/dp')"
   ]
  },
  {
   "cell_type": "code",
   "execution_count": 56,
   "metadata": {},
   "outputs": [
    {
     "data": {
      "text/plain": [
       "'<!DOCTYPE HTML>\\n<html lang=\"ja\" class=\"pc\">\\n<head>\\n  <meta charset=\"UTF-8\">\\n  <title>Gihyo Digital Publishing … 技術評論社の電子書籍</title>\\n  <meta http-equiv=\"Content-Style-Type\" content=\"text/css\"/>\\n  <meta http-equiv=\"Content-Script-Type\" content=\"application/javascript\"/>\\n  <meta name=\"description\" content=\"技術評論社の電子書籍（電子出版）販売サイト\"/>\\n  <meta name=\"keywords\" content=\"電子書籍,電子出版,EPUB,PDF,技術評論社\"/>\\n  <meta http-equiv=\"X-UA-Compatible\" content=\"IE=Edge,chrome=1\"/>\\n  <meta name=\"apple-mobile-web-app-capable\" content=\"yes\"/>\\n  <meta name=\"format-detection\" content=\"telephone=no\"/>\\n  <link rel=\"related\" href=\"http://gihyo.jp/dp/catalogs.opds\" type=\"application/atom+xml;profile=opds-catalog\" title=\"Gihyo Digital Publishing OPDS Catalog\"/>\\n  <link rel=\"shortcut icon\" href=\"/assets/templates/gdp/favicon.ico\" type=\"image/vnd.microsoft.icon\"/>\\n  <link rel=\"apple-touch-icon-precomposed\" href=\"/dp/assets/gdp-icon.png\"/>\\n  <!--[if lt IE 9]>\\n    <script>var msie=8;</script>\\n    <script src=\"//ajax.googleapis.com/ajax/libs/jquery/1.11.1/jquery.min.js\"></script>\\n    <script src=\"/dp/assets/js/html5shiv.min.js\"></script>\\n    <script src=\"//css3-mediaqueries-js.googlecode.com/svn/trunk/css3-mediaqueries.js\"></script>\\n    <script src=\"/dp/assets/js/selectivizr-min.js\"></script>\\n    <script src=\"/dp/assets/js/addEventListener.min.js\"></script>\\n    <script src=\"/dp/assets/js/textContent.min.js\"></script>\\n  <![endif]-->\\n  <!--[if lte IE 9]>\\n    <script src=\"/dp/assets/js/classList.min.js\" defer></script>\\n  <![endif]-->\\n  <link rel=\"stylesheet\" href=\"/dp/assets/style/store1217.css\" type=\"text/css\" media=\"all\"/>\\n  <script src=\"/dp/assets/js/gdpFunction0411.min.js\" defer></script>\\n  <meta name=\"twitter:card\" content=\"summary_large_image\"/>\\n  <meta name=\"twitter:site\" content=\"@gihyoDP\"/>\\n  <meta property=\"og:title\" content=\"Gihyo Digital Publishing … 技術評論社の電子書籍\"/>\\n  <meta property=\"og:type\" content=\"website\"/>\\n  <meta property=\"og:description\" content=\"技術評論社の電子書籍（電子出版）販売サイト\"/>\\n  <meta property=\"og:url\" content=\"https://gihyo.jp/dp\"/>\\n  <meta property=\"og:image\" content=\"/dp/assets/gdp-icon.png\"/>\\n  <meta property=\"og:site_name\" content=\"Gihyo Digital Publishing\"/>\\n  <meta property=\"fb:app_id\" content=\"185201618169441\"/>\\n  <script>\\n  (function(i,s,o,g,r,a,m){i[\\'GoogleAnalyticsObject\\']=r;i[r]=i[r]||function(){\\n  (i[r].q=i[r].q||[]).push(arguments)},i[r].l=1*new Date();a=s.createElement(o),\\nm=s.getElementsByTagName(o)[0];a.async=1;a.src=g;m.parentNode.insertBefore(a,m)\\n})(window,document,\\'script\\',\\'//www.google-analytics.com/analytics.js\\',\\'ga\\');\\n  ga(\\'create\\', \\'UA-4149703-1\\', \\'auto\\');\\n  ga(\\'require\\', \\'displayfeatures\\');\\n  ga(\\'send\\', \\'pageview\\');\\n  </script>\\n</head>\\n<body itemscope=\"itemscope\" itemtype=\"http://schema.org/WebPage\" class=\"page-home\">\\n  <header id=\"header\" itemscope=\"itemscope\" itemtype=\"http://schema.org/WPHeader\">\\n    <h1 class=\"home-title\">Gihyo Digital Publishing</h1>\\n    <h2 class=\"home-subtitle\">技術評論社の電子書籍サイト</h2>\\n    <nav id=\"headerFunction\">\\n      <div id=\"login\">\\n        <a href=\"#login\" title=\"ログイン・会員登録\">ログイン</a>\\n      </div>\\n      <div id=\"cart\">\\n        <a href=\"/dp/cart\" title=\"カートは空です\">カート</a>\\n      </div>\\n    </nav>\\n  </header>\\n  <div id=\"main\">\\n    <noscript><div id=\"noscript\">\\n      <p>本サイトではJavaScriptを使用しております。JavaScriptが無効な状態ではご利用いただけません。</p>\\n    </div></noscript>\\n\\n    <div id=\"bookList\">\\n      <h2>商品一覧</h2>\\n      <div id=\"topNavigation\">\\n        <div id=\"filter\">\\n          <form id=\"search\" action=\"/dp\" method=\"get\">\\n            <input type=\"search\" name=\"query\" id=\"searchText\" title=\"検索する商品のキーワードを入力\" placeholder=\"商品のキーワード\" required=\"required\" value=\"\"/>\\n            <input type=\"submit\" id=\"searchSubmit\" value=\"検索\" title=\"検索する\"/>\\n          </form>\\n          <div id=\"select\">\\n            <a href=\"\" id=\"selectLabel\" title=\"商品ジャンルを選択する\">すべての商品</a>\\n            <div id=\"selectMenu\">\\n              <ul id=\"selectMenuBody\"><li class=\"title\">商品ジャンルを選択</li><li class=\"selected\"><a href=\"/dp\">すべての商品</a></li><li><a href=\"/dp/genre/%E3%83%91%E3%82%BD%E3%82%B3%E3%83%B3\">パソコン</a></li><li><a href=\"/dp/genre/%E3%82%B9%E3%83%9E%E3%83%BC%E3%83%88%E3%83%95%E3%82%A9%E3%83%B3%E3%83%BB%E3%82%BF%E3%83%96%E3%83%AC%E3%83%83%E3%83%88\">スマートフォン・タブレット</a></li><li><a href=\"/dp/genre/%E3%83%87%E3%82%B6%E3%82%A4%E3%83%B3%E3%83%BB%E7%B4%A0%E6%9D%90%E9%9B%86\">デザイン・素材集</a></li><li><a href=\"/dp/genre/Web%E3%82%B5%E3%82%A4%E3%83%88%E5%88%B6%E4%BD%9C\">Webサイト制作</a></li><li><a href=\"/dp/genre/%E3%83%97%E3%83%AD%E3%82%B0%E3%83%A9%E3%83%9F%E3%83%B3%E3%82%B0%E3%83%BB%E3%82%B7%E3%82%B9%E3%83%86%E3%83%A0%E9%96%8B%E7%99%BA\">プログラミング・システム開発</a></li><li><a href=\"/dp/genre/%E3%83%8D%E3%83%83%E3%83%88%E3%83%AF%E3%83%BC%E3%82%AF%E3%83%BBUNIX%E3%83%BB%E3%83%87%E3%83%BC%E3%82%BF%E3%83%99%E3%83%BC%E3%82%B9\">ネットワーク・UNIX・データベース</a></li><li><a href=\"/dp/genre/%E8%B3%87%E6%A0%BC%E8%A9%A6%E9%A8%93%EF%BC%88IT%EF%BC%89\">資格試験（IT）</a></li><li><a href=\"/dp/genre/%E8%B3%87%E6%A0%BC%E8%A9%A6%E9%A8%93%EF%BC%88%E4%B8%80%E8%88%AC%EF%BC%89%E3%83%BB%E5%A4%A7%E5%AD%A6%E5%8F%97%E9%A8%93\">資格試験（一般）・大学受験</a></li><li><a href=\"/dp/genre/%E8%B6%A3%E5%91%B3%E3%83%BB%E5%AE%9F%E7%94%A8%E3%83%BB%E3%83%87%E3%82%B8%E3%82%AB%E3%83%A1\">趣味・実用・デジカメ</a></li><li><a href=\"/dp/genre/%E3%83%93%E3%82%B8%E3%83%8D%E3%82%B9%E3%83%BB%E3%83%9E%E3%83%8D%E3%83%BC\">ビジネス・マネー</a></li><li><a href=\"/dp/genre/%E7%90%86%E5%B7%A5%E3%83%BB%E3%82%B5%E3%82%A4%E3%82%A8%E3%83%B3%E3%82%B9\">理工・サイエンス</a></li></ul>\\n            </div>\\n          </div>\\n        </div>\\n        <nav id=\"pagingTop\">          <ul>\\n            <li><span class=\"prev\">―</span></li>\\n            <li class=\"paging-number\">1</li>\\n            <li><a href=\"/dp?start=30\" title=\"次のページ\" class=\"next\">次</a></li>\\n          </ul>\\n        </nav>\\n      </div>\\n      <ul itemprop=\"isPartOf\" itemscope=\"itemscope\" itemtype=\"http://www.schema.org/CollectionPage\" id=\"listBook\" class=\"list-book\"><li id=\"bannerTopAd\">\\n  <div id=\"topAdPrev\"><a href=\"#adPrev\" title=\"前のバナー\">前</a></div>\\n  <div id=\"topAdNext\"><a href=\"#adNext\" title=\"次のバナー\">次</a></div>\\n  <ul id=\"topAdNum\"></ul>\\n</li>\\n<li class=\"subscription\"><a href=\"/dp/subscription\">\\n  <p class=\"title\"><span class=\"series\">Software Design・<wbr>WEB+DB PRESS</span>電子版定期購読のお申し込み</p>\\n  <img src=\"//image.gihyo.co.jp/assets/images/dummy.png\" data-image=\"//image.gihyo.co.jp/assets/images/gdp/subscription/subsc-cover.png,//image.gihyo.co.jp/assets/images/gdp/subscription/subsc-cover@2x.png\" width=\"236\" height=\"138\" alt=\"cover\" style=\"max-width:none;max-height:none;position:absolute;right:0;bottom:-10px;border:none\">\\n  <ul class=\"format\"><li class=\"pdf\">PDF</li><li class=\"epub\">EPUB</li></ul>\\n</a></li>        <li class=\"new\" id=\"978-4-297-11449-7\"><a itemprop=\"url\" href=\"/dp/ebook/2020/978-4-297-11449-7\">\\n          <img itemprop=\"image\" src=\"//image.gihyo.co.jp/assets/images/dummy.png\" width=\"100\" height=\"147\" data-image=\"https://image.gihyo.co.jp/assets/images/gdp/2020/thumb/TH100_978-4-297-11449-7.jpg,https://image.gihyo.co.jp/assets/images/gdp/2020/thumb/TH200_978-4-297-11449-7.jpg\" alt=\"カバー画像\"/>\\n          <p itemprop=\"name\" class=\"title\">Q&amp;<wbr/>A<wbr/>でわかる テレワークの労務・<wbr/>法務・<wbr/>情報セキュリティ</p>\\n          <p itemprop=\"author\" class=\"author\">足立昌聰\\u3000編著，<wbr/>寺島有紀，<wbr/>世古修平，<wbr/>笹川豪介，<wbr/>関原秀行\\u3000著</p>\\n          <p itemprop=\"offers\" itemscope=\"itemscope\" itemtype=\"http://schema.org/Offer\" class=\"price\"><span itemprop=\"price\">1,780</span>円<meta itemprop=\"priceCurrency\" content=\"JPY\"/></p>\\n          <ul class=\"format\">\\n            <li class=\"pdf\">PDF</li>\\n          </ul>\\n          <ul class=\"date\">\\n            <li class=\"notice\"><time datetime=\"2020-6-26\" itemprop=\"datePublished\" class=\"published\">2020年6月26日</time></li>\\n            \\n          </ul>\\n        </a></li>        <li class=\"new\" id=\"978-4-297-11443-5\"><a itemprop=\"url\" href=\"/dp/ebook/2020/978-4-297-11443-5\">\\n          <img itemprop=\"image\" src=\"//image.gihyo.co.jp/assets/images/dummy.png\" width=\"100\" height=\"147\" data-image=\"https://image.gihyo.co.jp/assets/images/gdp/2020/thumb/TH100_978-4-297-11443-5.jpg,https://image.gihyo.co.jp/assets/images/gdp/2020/thumb/TH200_978-4-297-11443-5.jpg\" alt=\"カバー画像\"/>\\n          <p itemprop=\"name\" class=\"title\">巣ごもり消費マーケティング<br/><span class=\"sub\">～<wbr/>「家から出ない人」<wbr/>に買ってもらう<wbr/>100<wbr/>の販促ワザ</span></p>\\n          <p itemprop=\"author\" class=\"author\">竹内謙礼\\u3000著</p>\\n          <p itemprop=\"offers\" itemscope=\"itemscope\" itemtype=\"http://schema.org/Offer\" class=\"price\"><span itemprop=\"price\">1,680</span>円<meta itemprop=\"priceCurrency\" content=\"JPY\"/></p>\\n          <ul class=\"format\">\\n            <li class=\"pdf\">PDF</li><li class=\"epub\">EPUB</li>\\n          </ul>\\n          <ul class=\"date\">\\n            <li class=\"notice\"><time datetime=\"2020-6-24\" itemprop=\"datePublished\" class=\"published\">2020年6月24日</time></li>\\n            \\n          </ul>\\n        </a></li>        <li class=\"new\" id=\"978-4-297-11467-1\"><a itemprop=\"url\" href=\"/dp/ebook/2020/978-4-297-11467-1\">\\n          <img itemprop=\"image\" src=\"//image.gihyo.co.jp/assets/images/dummy.png\" width=\"100\" height=\"141\" data-image=\"https://image.gihyo.co.jp/assets/images/gdp/2020/thumb/TH100_978-4-297-11467-1.jpg,https://image.gihyo.co.jp/assets/images/gdp/2020/thumb/TH200_978-4-297-11467-1.jpg\" alt=\"カバー画像\"/>\\n          <p itemprop=\"name\" class=\"title\">WEB+DB PRESS Vol.117</p>\\n          <p itemprop=\"author\" class=\"author\"></p>\\n          <p itemprop=\"offers\" itemscope=\"itemscope\" itemtype=\"http://schema.org/Offer\" class=\"price\"><span itemprop=\"price\">1,628</span>円<meta itemprop=\"priceCurrency\" content=\"JPY\"/></p>\\n          <ul class=\"format\">\\n            <li class=\"pdf\">PDF</li><li class=\"epub\">EPUB</li>\\n          </ul>\\n          <ul class=\"date\">\\n            <li class=\"notice\"><time datetime=\"2020-6-24\" itemprop=\"datePublished\" class=\"published\">2020年6月24日</time></li>\\n            \\n          </ul>\\n        </a></li>        <li class=\"new\" id=\"978-4-297-11380-3\"><a itemprop=\"url\" href=\"/dp/ebook/2020/978-4-297-11380-3\">\\n          <img itemprop=\"image\" src=\"//image.gihyo.co.jp/assets/images/dummy.png\" width=\"100\" height=\"142\" data-image=\"https://image.gihyo.co.jp/assets/images/gdp/2020/thumb/TH100_978-4-297-11380-3.jpg,https://image.gihyo.co.jp/assets/images/gdp/2020/thumb/TH200_978-4-297-11380-3.jpg\" alt=\"カバー画像\"/>\\n          <p itemprop=\"name\" class=\"title\">転生したらスプレッドシートだった件</p>\\n          <p itemprop=\"author\" class=\"author\">ミネムラコーヒー\\u3000著</p>\\n          <p itemprop=\"offers\" itemscope=\"itemscope\" itemtype=\"http://schema.org/Offer\" class=\"price\"><span itemprop=\"price\">1,780</span>円<meta itemprop=\"priceCurrency\" content=\"JPY\"/></p>\\n          <ul class=\"format\">\\n            <li class=\"pdf\">PDF</li><li class=\"epub\">EPUB</li>\\n          </ul>\\n          <ul class=\"date\">\\n            <li class=\"notice\"><time datetime=\"2020-6-22\" itemprop=\"datePublished\" class=\"published\">2020年6月22日</time></li>\\n            \\n          </ul>\\n        </a></li>        <li class=\"new\" id=\"978-4-297-11376-6\"><a itemprop=\"url\" href=\"/dp/ebook/2020/978-4-297-11376-6\">\\n          <img itemprop=\"image\" src=\"//image.gihyo.co.jp/assets/images/dummy.png\" width=\"100\" height=\"142\" data-image=\"https://image.gihyo.co.jp/assets/images/gdp/2020/thumb/TH100_978-4-297-11376-6.jpg,https://image.gihyo.co.jp/assets/images/gdp/2020/thumb/TH200_978-4-297-11376-6.jpg\" alt=\"カバー画像\"/>\\n          <p itemprop=\"name\" class=\"title\">無料で始めるネットショップ 作成＆<wbr/>運営＆<wbr/>集客がぜんぶわかる！</p>\\n          <p itemprop=\"author\" class=\"author\">志鎌真奈美\\u3000著</p>\\n          <p itemprop=\"offers\" itemscope=\"itemscope\" itemtype=\"http://schema.org/Offer\" class=\"price\"><span itemprop=\"price\">1,680</span>円<meta itemprop=\"priceCurrency\" content=\"JPY\"/></p>\\n          <ul class=\"format\">\\n            <li class=\"pdf\">PDF</li>\\n          </ul>\\n          <ul class=\"date\">\\n            <li class=\"notice\"><time datetime=\"2020-6-22\" itemprop=\"datePublished\" class=\"published\">2020年6月22日</time></li>\\n            \\n          </ul>\\n        </a></li>        <li class=\"new\" id=\"978-4-297-11366-7\"><a itemprop=\"url\" href=\"/dp/ebook/2020/978-4-297-11366-7\">\\n          <img itemprop=\"image\" src=\"//image.gihyo.co.jp/assets/images/dummy.png\" width=\"100\" height=\"142\" data-image=\"https://image.gihyo.co.jp/assets/images/gdp/2020/thumb/TH100_978-4-297-11366-7.jpg,https://image.gihyo.co.jp/assets/images/gdp/2020/thumb/TH200_978-4-297-11366-7.jpg\" alt=\"カバー画像\"/>\\n          <p itemprop=\"name\" class=\"title\"><span class=\"series\">図解即戦力</span> 図解即戦力<br/>食品業界のしくみとビジネスがこれ<wbr/>1<wbr/>冊でしっかりわかる教科書</p>\\n          <p itemprop=\"author\" class=\"author\">松岡康浩，<wbr/>竹田クニ\\u3000著</p>\\n          <p itemprop=\"offers\" itemscope=\"itemscope\" itemtype=\"http://schema.org/Offer\" class=\"price\"><span itemprop=\"price\">1,500</span>円<meta itemprop=\"priceCurrency\" content=\"JPY\"/></p>\\n          <ul class=\"format\">\\n            <li class=\"pdf\">PDF</li>\\n          </ul>\\n          <ul class=\"date\">\\n            <li><time datetime=\"2020-6-20\" itemprop=\"datePublished\" class=\"published\">2020年6月20日</time></li>\\n            \\n          </ul>\\n        </a></li>        <li class=\"new\" id=\"978-4-297-11402-2\"><a itemprop=\"url\" href=\"/dp/ebook/2020/978-4-297-11402-2\">\\n          <img itemprop=\"image\" src=\"//image.gihyo.co.jp/assets/images/dummy.png\" width=\"100\" height=\"142\" data-image=\"https://image.gihyo.co.jp/assets/images/gdp/2020/thumb/TH100_978-4-297-11402-2.jpg,https://image.gihyo.co.jp/assets/images/gdp/2020/thumb/TH200_978-4-297-11402-2.jpg\" alt=\"カバー画像\"/>\\n          <p itemprop=\"name\" class=\"title\">第<wbr/>5<wbr/>版 登録販売者 合格教本</p>\\n          <p itemprop=\"author\" class=\"author\">本間克明\\u3000著</p>\\n          <p itemprop=\"offers\" itemscope=\"itemscope\" itemtype=\"http://schema.org/Offer\" class=\"price\"><span itemprop=\"price\">2,100</span>円<meta itemprop=\"priceCurrency\" content=\"JPY\"/></p>\\n          <ul class=\"format\">\\n            <li class=\"pdf\">PDF</li>\\n          </ul>\\n          <ul class=\"date\">\\n            <li><time datetime=\"2020-6-18\" itemprop=\"datePublished\" class=\"published\">2020年6月18日</time></li>\\n            \\n          </ul>\\n        </a></li>        <li class=\"new\" id=\"978-4-297-11398-8\"><a itemprop=\"url\" href=\"/dp/ebook/2020/978-4-297-11398-8\">\\n          <img itemprop=\"image\" src=\"//image.gihyo.co.jp/assets/images/dummy.png\" width=\"100\" height=\"142\" data-image=\"https://image.gihyo.co.jp/assets/images/gdp/2020/thumb/TH100_978-4-297-11398-8.jpg,https://image.gihyo.co.jp/assets/images/gdp/2020/thumb/TH200_978-4-297-11398-8.jpg\" alt=\"カバー画像\"/>\\n          <p itemprop=\"name\" class=\"title\">［改訂<wbr/>3<wbr/>版］<wbr/>演習で学ぶソフトウェアテスト 特訓<wbr/>200<wbr/>問<br/><span class=\"sub\">―<wbr/>JSTQB<wbr/>認定テスト技術者資格 Foundation Level<wbr/>対応</span></p>\\n          <p itemprop=\"author\" class=\"author\">正木威寛\\u3000著</p>\\n          <p itemprop=\"offers\" itemscope=\"itemscope\" itemtype=\"http://schema.org/Offer\" class=\"price\"><span itemprop=\"price\">2,480</span>円<meta itemprop=\"priceCurrency\" content=\"JPY\"/></p>\\n          <ul class=\"format\">\\n            <li class=\"pdf\">PDF</li><li class=\"epub\">EPUB</li>\\n          </ul>\\n          <ul class=\"date\">\\n            <li><time datetime=\"2020-6-18\" itemprop=\"datePublished\" class=\"published\">2020年6月18日</time></li>\\n            \\n          </ul>\\n        </a></li>        <li class=\"new\" id=\"978-4-297-11282-0\"><a itemprop=\"url\" href=\"/dp/ebook/2020/978-4-297-11282-0\">\\n          <img itemprop=\"image\" src=\"//image.gihyo.co.jp/assets/images/dummy.png\" width=\"100\" height=\"141\" data-image=\"https://image.gihyo.co.jp/assets/images/gdp/2020/thumb/TH100_978-4-297-11282-0.jpg,https://image.gihyo.co.jp/assets/images/gdp/2020/thumb/TH200_978-4-297-11282-0.jpg\" alt=\"カバー画像\"/>\\n          <p itemprop=\"name\" class=\"title\">Software Design 2020<wbr/>年<wbr/>7<wbr/>月号</p>\\n          <p itemprop=\"author\" class=\"author\"></p>\\n          <p itemprop=\"offers\" itemscope=\"itemscope\" itemtype=\"http://schema.org/Offer\" class=\"price\"><span itemprop=\"price\">1,342</span>円<meta itemprop=\"priceCurrency\" content=\"JPY\"/></p>\\n          <ul class=\"format\">\\n            <li class=\"pdf\">PDF</li><li class=\"epub\">EPUB</li>\\n          </ul>\\n          <ul class=\"date\">\\n            <li><time datetime=\"2020-6-18\" itemprop=\"datePublished\" class=\"published\">2020年6月18日</time></li>\\n            \\n          </ul>\\n        </a></li>        <li class=\"new\" id=\"978-4-297-11382-7\"><a itemprop=\"url\" href=\"/dp/ebook/2020/978-4-297-11382-7\">\\n          <img itemprop=\"image\" src=\"//image.gihyo.co.jp/assets/images/dummy.png\" width=\"100\" height=\"128\" data-image=\"https://image.gihyo.co.jp/assets/images/gdp/2020/thumb/TH100_978-4-297-11382-7.jpg,https://image.gihyo.co.jp/assets/images/gdp/2020/thumb/TH200_978-4-297-11382-7.jpg\" alt=\"カバー画像\"/>\\n          <p itemprop=\"name\" class=\"title\"><span class=\"series\">今すぐ使えるかんたん</span> 今すぐ使えるかんたん<br/>Outlook 完全ガイドブック 困った解決&amp;<wbr/>便利技<br/><span class=\"sub\">［2019/<wbr/>2016/<wbr/>2013/<wbr/>365<wbr/>対応版］</span></p>\\n          <p itemprop=\"author\" class=\"author\">AYURA\\u3000著</p>\\n          <p itemprop=\"offers\" itemscope=\"itemscope\" itemtype=\"http://schema.org/Offer\" class=\"price\"><span itemprop=\"price\">1,680</span>円<meta itemprop=\"priceCurrency\" content=\"JPY\"/></p>\\n          <ul class=\"format\">\\n            <li class=\"pdf\">PDF</li>\\n          </ul>\\n          <ul class=\"date\">\\n            <li><time datetime=\"2020-6-17\" itemprop=\"datePublished\" class=\"published\">2020年6月17日</time></li>\\n            \\n          </ul>\\n        </a></li>        <li class=\"new\" id=\"978-4-297-11390-2\"><a itemprop=\"url\" href=\"/dp/ebook/2020/978-4-297-11390-2\">\\n          <img itemprop=\"image\" src=\"//image.gihyo.co.jp/assets/images/dummy.png\" width=\"100\" height=\"128\" data-image=\"https://image.gihyo.co.jp/assets/images/gdp/2020/thumb/TH100_978-4-297-11390-2.jpg,https://image.gihyo.co.jp/assets/images/gdp/2020/thumb/TH200_978-4-297-11390-2.jpg\" alt=\"カバー画像\"/>\\n          <p itemprop=\"name\" class=\"title\"><span class=\"series\">今すぐ使えるかんたん</span> 今すぐ使えるかんたん<br/>PowerPoint 完全ガイドブック 困った解決&amp;<wbr/>便利技<br/><span class=\"sub\">［2019/<wbr/>2016/<wbr/>2013/<wbr/>365<wbr/>対応版］</span></p>\\n          <p itemprop=\"author\" class=\"author\">AYURA\\u3000著</p>\\n          <p itemprop=\"offers\" itemscope=\"itemscope\" itemtype=\"http://schema.org/Offer\" class=\"price\"><span itemprop=\"price\">1,780</span>円<meta itemprop=\"priceCurrency\" content=\"JPY\"/></p>\\n          <ul class=\"format\">\\n            <li class=\"pdf\">PDF</li>\\n          </ul>\\n          <ul class=\"date\">\\n            <li><time datetime=\"2020-6-17\" itemprop=\"datePublished\" class=\"published\">2020年6月17日</time></li>\\n            \\n          </ul>\\n        </a></li>        <li id=\"978-4-297-11388-9\"><a itemprop=\"url\" href=\"/dp/ebook/2020/978-4-297-11388-9\">\\n          <img itemprop=\"image\" src=\"//image.gihyo.co.jp/assets/images/dummy.png\" width=\"100\" height=\"147\" data-image=\"https://image.gihyo.co.jp/assets/images/gdp/2020/thumb/TH100_978-4-297-11388-9.jpg,https://image.gihyo.co.jp/assets/images/gdp/2020/thumb/TH200_978-4-297-11388-9.jpg\" alt=\"カバー画像\"/>\\n          <p itemprop=\"name\" class=\"title\">「古着転売」<wbr/>だけで毎月<wbr/>10<wbr/>万円<br/><span class=\"sub\">―メルカリでできる最強の副業</span></p>\\n          <p itemprop=\"author\" class=\"author\">しーな\\u3000著</p>\\n          <p itemprop=\"offers\" itemscope=\"itemscope\" itemtype=\"http://schema.org/Offer\" class=\"price\"><span itemprop=\"price\">1,580</span>円<meta itemprop=\"priceCurrency\" content=\"JPY\"/></p>\\n          <ul class=\"format\">\\n            <li class=\"pdf\">PDF</li><li class=\"epub\">EPUB</li>\\n          </ul>\\n          <ul class=\"date\">\\n            <li><time datetime=\"2020-6-13\" itemprop=\"datePublished\" class=\"published\">2020年6月13日</time></li>\\n            \\n          </ul>\\n        </a></li>        <li id=\"978-4-297-11386-5\"><a itemprop=\"url\" href=\"/dp/ebook/2020/978-4-297-11386-5\">\\n          <img itemprop=\"image\" src=\"//image.gihyo.co.jp/assets/images/dummy.png\" width=\"100\" height=\"147\" data-image=\"https://image.gihyo.co.jp/assets/images/gdp/2020/thumb/TH100_978-4-297-11386-5.jpg,https://image.gihyo.co.jp/assets/images/gdp/2020/thumb/TH200_978-4-297-11386-5.jpg\" alt=\"カバー画像\"/>\\n          <p itemprop=\"name\" class=\"title\"><span class=\"series\">知りたい！サイエンス</span> 正多面体は本当に<wbr/>5<wbr/>種類か<br/><span class=\"sub\">～やわらかい幾何はすべてここからはじまる～</span></p>\\n          <p itemprop=\"author\" class=\"author\">小林吹代\\u3000著</p>\\n          <p itemprop=\"offers\" itemscope=\"itemscope\" itemtype=\"http://schema.org/Offer\" class=\"price\"><span itemprop=\"price\">1,680</span>円<meta itemprop=\"priceCurrency\" content=\"JPY\"/></p>\\n          <ul class=\"format\">\\n            <li class=\"pdf\">PDF</li><li class=\"epub\">EPUB</li>\\n          </ul>\\n          <ul class=\"date\">\\n            <li><time datetime=\"2020-6-12\" itemprop=\"datePublished\" class=\"published\">2020年6月12日</time></li>\\n            \\n          </ul>\\n        </a></li>        <li id=\"978-4-297-11406-0\"><a itemprop=\"url\" href=\"/dp/ebook/2020/978-4-297-11406-0\">\\n          <img itemprop=\"image\" src=\"//image.gihyo.co.jp/assets/images/dummy.png\" width=\"100\" height=\"147\" data-image=\"https://image.gihyo.co.jp/assets/images/gdp/2020/thumb/TH100_978-4-297-11406-0.jpg,https://image.gihyo.co.jp/assets/images/gdp/2020/thumb/TH200_978-4-297-11406-0.jpg\" alt=\"カバー画像\"/>\\n          <p itemprop=\"name\" class=\"title\"><span class=\"series\">ゼロからはじめる</span> ゼロからはじめる<br/>ドコモ Galaxy S20 5G SC-51A スマートガイド</p>\\n          <p itemprop=\"author\" class=\"author\">技術評論社編集部\\u3000著</p>\\n          <p itemprop=\"offers\" itemscope=\"itemscope\" itemtype=\"http://schema.org/Offer\" class=\"price\"><span itemprop=\"price\">1,580</span>円<meta itemprop=\"priceCurrency\" content=\"JPY\"/></p>\\n          <ul class=\"format\">\\n            <li class=\"pdf\">PDF</li>\\n          </ul>\\n          <ul class=\"date\">\\n            <li><time datetime=\"2020-6-10\" itemprop=\"datePublished\" class=\"published\">2020年6月10日</time></li>\\n            \\n          </ul>\\n        </a></li>        <li id=\"978-4-297-11408-4\"><a itemprop=\"url\" href=\"/dp/ebook/2020/978-4-297-11408-4\">\\n          <img itemprop=\"image\" src=\"//image.gihyo.co.jp/assets/images/dummy.png\" width=\"100\" height=\"147\" data-image=\"https://image.gihyo.co.jp/assets/images/gdp/2020/thumb/TH100_978-4-297-11408-4.jpg,https://image.gihyo.co.jp/assets/images/gdp/2020/thumb/TH200_978-4-297-11408-4.jpg\" alt=\"カバー画像\"/>\\n          <p itemprop=\"name\" class=\"title\"><span class=\"series\">ゼロからはじめる</span> ゼロからはじめる<br/>au AQUOS R5G SHG01 スマートガイド</p>\\n          <p itemprop=\"author\" class=\"author\">技術評論社編集部\\u3000著</p>\\n          <p itemprop=\"offers\" itemscope=\"itemscope\" itemtype=\"http://schema.org/Offer\" class=\"price\"><span itemprop=\"price\">1,580</span>円<meta itemprop=\"priceCurrency\" content=\"JPY\"/></p>\\n          <ul class=\"format\">\\n            <li class=\"pdf\">PDF</li>\\n          </ul>\\n          <ul class=\"date\">\\n            <li><time datetime=\"2020-6-10\" itemprop=\"datePublished\" class=\"published\">2020年6月10日</time></li>\\n            \\n          </ul>\\n        </a></li>        <li id=\"978-4-297-11246-2\"><a itemprop=\"url\" href=\"/dp/ebook/2020/978-4-297-11246-2\">\\n          <img itemprop=\"image\" src=\"//image.gihyo.co.jp/assets/images/dummy.png\" width=\"100\" height=\"148\" data-image=\"https://image.gihyo.co.jp/assets/images/gdp/2020/thumb/TH100_978-4-297-11246-2.jpg,https://image.gihyo.co.jp/assets/images/gdp/2020/thumb/TH200_978-4-297-11246-2.jpg\" alt=\"カバー画像\"/>\\n          <p itemprop=\"name\" class=\"title\"><span class=\"series\">図解即戦力</span> 図解即戦力<br/>銀行業界のしくみとビジネスがこれ<wbr/>1<wbr/>冊でしっかりわかる教科書</p>\\n          <p itemprop=\"author\" class=\"author\">長塚孝子\\u3000監修</p>\\n          <p itemprop=\"offers\" itemscope=\"itemscope\" itemtype=\"http://schema.org/Offer\" class=\"price\"><span itemprop=\"price\">1,400</span>円<meta itemprop=\"priceCurrency\" content=\"JPY\"/></p>\\n          <ul class=\"format\">\\n            <li class=\"pdf\">PDF</li><li class=\"epub\">EPUB</li>\\n          </ul>\\n          <ul class=\"date\">\\n            <li><time datetime=\"2020-6-10\" itemprop=\"datePublished\" class=\"published\">2020年6月10日</time></li>\\n            \\n          </ul>\\n        </a></li>        <li id=\"978-4-297-11457-2\"><a itemprop=\"url\" href=\"/dp/ebook/2020/978-4-297-11457-2\">\\n          <img itemprop=\"image\" src=\"//image.gihyo.co.jp/assets/images/dummy.png\" width=\"100\" height=\"147\" data-image=\"https://image.gihyo.co.jp/assets/images/gdp/2020/thumb/TH100_978-4-297-11457-2.jpg,https://image.gihyo.co.jp/assets/images/gdp/2020/thumb/TH200_978-4-297-11457-2.jpg\" alt=\"カバー画像\"/>\\n          <p itemprop=\"name\" class=\"title\"><span class=\"series\">ゼロからはじめる</span> ゼロからはじめる<br/>iPhone SE 第<wbr/>2<wbr/>世代 スマートガイド au<wbr/>完全対応版</p>\\n          <p itemprop=\"author\" class=\"author\">リンクアップ\\u3000著</p>\\n          <p itemprop=\"offers\" itemscope=\"itemscope\" itemtype=\"http://schema.org/Offer\" class=\"price\"><span itemprop=\"price\">1,080</span>円<meta itemprop=\"priceCurrency\" content=\"JPY\"/></p>\\n          <ul class=\"format\">\\n            <li class=\"pdf\">PDF</li>\\n          </ul>\\n          <ul class=\"date\">\\n            <li><time datetime=\"2020-6-08\" itemprop=\"datePublished\" class=\"published\">2020年6月8日</time></li>\\n            \\n          </ul>\\n        </a></li>        <li id=\"978-4-297-11459-6\"><a itemprop=\"url\" href=\"/dp/ebook/2020/978-4-297-11459-6\">\\n          <img itemprop=\"image\" src=\"//image.gihyo.co.jp/assets/images/dummy.png\" width=\"100\" height=\"147\" data-image=\"https://image.gihyo.co.jp/assets/images/gdp/2020/thumb/TH100_978-4-297-11459-6.jpg,https://image.gihyo.co.jp/assets/images/gdp/2020/thumb/TH200_978-4-297-11459-6.jpg\" alt=\"カバー画像\"/>\\n          <p itemprop=\"name\" class=\"title\"><span class=\"series\">ゼロからはじめる</span> ゼロからはじめる<br/>iPhone SE 第<wbr/>2<wbr/>世代 スマートガイド ドコモ完全対応版</p>\\n          <p itemprop=\"author\" class=\"author\">リンクアップ\\u3000著</p>\\n          <p itemprop=\"offers\" itemscope=\"itemscope\" itemtype=\"http://schema.org/Offer\" class=\"price\"><span itemprop=\"price\">1,080</span>円<meta itemprop=\"priceCurrency\" content=\"JPY\"/></p>\\n          <ul class=\"format\">\\n            <li class=\"pdf\">PDF</li>\\n          </ul>\\n          <ul class=\"date\">\\n            <li><time datetime=\"2020-6-08\" itemprop=\"datePublished\" class=\"published\">2020年6月8日</time></li>\\n            \\n          </ul>\\n        </a></li>        <li id=\"978-4-297-11461-9\"><a itemprop=\"url\" href=\"/dp/ebook/2020/978-4-297-11461-9\">\\n          <img itemprop=\"image\" src=\"//image.gihyo.co.jp/assets/images/dummy.png\" width=\"100\" height=\"147\" data-image=\"https://image.gihyo.co.jp/assets/images/gdp/2020/thumb/TH100_978-4-297-11461-9.jpg,https://image.gihyo.co.jp/assets/images/gdp/2020/thumb/TH200_978-4-297-11461-9.jpg\" alt=\"カバー画像\"/>\\n          <p itemprop=\"name\" class=\"title\"><span class=\"series\">ゼロからはじめる</span> ゼロからはじめる<br/>iPhone SE 第<wbr/>2<wbr/>世代 スマートガイド ソフトバンク完全対応版</p>\\n          <p itemprop=\"author\" class=\"author\">リンクアップ\\u3000著</p>\\n          <p itemprop=\"offers\" itemscope=\"itemscope\" itemtype=\"http://schema.org/Offer\" class=\"price\"><span itemprop=\"price\">1,080</span>円<meta itemprop=\"priceCurrency\" content=\"JPY\"/></p>\\n          <ul class=\"format\">\\n            <li class=\"pdf\">PDF</li>\\n          </ul>\\n          <ul class=\"date\">\\n            <li><time datetime=\"2020-6-08\" itemprop=\"datePublished\" class=\"published\">2020年6月8日</time></li>\\n            \\n          </ul>\\n        </a></li>        <li id=\"978-4-297-11378-0\"><a itemprop=\"url\" href=\"/dp/ebook/2020/978-4-297-11378-0\">\\n          <img itemprop=\"image\" src=\"//image.gihyo.co.jp/assets/images/dummy.png\" width=\"100\" height=\"126\" data-image=\"https://image.gihyo.co.jp/assets/images/gdp/2020/thumb/TH100_978-4-297-11378-0.jpg,https://image.gihyo.co.jp/assets/images/gdp/2020/thumb/TH200_978-4-297-11378-0.jpg\" alt=\"カバー画像\"/>\\n          <p itemprop=\"name\" class=\"title\"><span class=\"series\">たった<wbr/>1<wbr/>日で基本が身に付く！</span> たった1日で基本が身に付く！<br/>Vue.js 超入門</p>\\n          <p itemprop=\"author\" class=\"author\">石亀広大\\u3000著</p>\\n          <p itemprop=\"offers\" itemscope=\"itemscope\" itemtype=\"http://schema.org/Offer\" class=\"price\"><span itemprop=\"price\">2,180</span>円<meta itemprop=\"priceCurrency\" content=\"JPY\"/></p>\\n          <ul class=\"format\">\\n            <li class=\"pdf\">PDF</li><li class=\"epub\">EPUB</li>\\n          </ul>\\n          <ul class=\"date\">\\n            <li><time datetime=\"2020-6-08\" itemprop=\"datePublished\" class=\"published\">2020年6月8日</time></li>\\n            \\n          </ul>\\n        </a></li>        <li id=\"978-4-297-11372-8\"><a itemprop=\"url\" href=\"/dp/ebook/2020/978-4-297-11372-8\">\\n          <img itemprop=\"image\" src=\"//image.gihyo.co.jp/assets/images/dummy.png\" width=\"100\" height=\"157\" data-image=\"https://image.gihyo.co.jp/assets/images/gdp/2020/thumb/TH100_978-4-297-11372-8.jpg,https://image.gihyo.co.jp/assets/images/gdp/2020/thumb/TH200_978-4-297-11372-8.jpg\" alt=\"カバー画像\"/>\\n          <p itemprop=\"name\" class=\"title\"><span class=\"series\">今すぐ使えるかんたん<wbr/>mini</span> 今すぐ使えるかんたんmini<br/>Nikon Z 50 基本＆<wbr/>応用 撮影ガイド</p>\\n          <p itemprop=\"author\" class=\"author\">塩見徹，<wbr/>Ryo Editor\\u3000著</p>\\n          <p itemprop=\"offers\" itemscope=\"itemscope\" itemtype=\"http://schema.org/Offer\" class=\"price\"><span itemprop=\"price\">1,580</span>円<meta itemprop=\"priceCurrency\" content=\"JPY\"/></p>\\n          <ul class=\"format\">\\n            <li class=\"pdf\">PDF</li>\\n          </ul>\\n          <ul class=\"date\">\\n            <li><time datetime=\"2020-6-06\" itemprop=\"datePublished\" class=\"published\">2020年6月6日</time></li>\\n            \\n          </ul>\\n        </a></li>        <li id=\"978-4-297-11275-2\"><a itemprop=\"url\" href=\"/dp/ebook/2020/978-4-297-11275-2\">\\n          <img itemprop=\"image\" src=\"//image.gihyo.co.jp/assets/images/dummy.png\" width=\"100\" height=\"142\" data-image=\"https://image.gihyo.co.jp/assets/images/gdp/2020/thumb/TH100_978-4-297-11275-2.jpg,https://image.gihyo.co.jp/assets/images/gdp/2020/thumb/TH200_978-4-297-11275-2.jpg\" alt=\"カバー画像\"/>\\n          <p itemprop=\"name\" class=\"title\">スペースキーで見た目を整えるのはやめなさい<br/><span class=\"sub\">～<wbr/>8<wbr/>割の社会人が見落とす資料作成のキホン</span></p>\\n          <p itemprop=\"author\" class=\"author\">四禮静子\\u3000著</p>\\n          <p itemprop=\"offers\" itemscope=\"itemscope\" itemtype=\"http://schema.org/Offer\" class=\"price\"><span itemprop=\"price\">1,680</span>円<meta itemprop=\"priceCurrency\" content=\"JPY\"/></p>\\n          <ul class=\"format\">\\n            <li class=\"pdf\">PDF</li><li class=\"epub\">EPUB</li>\\n          </ul>\\n          <ul class=\"date\">\\n            <li><time datetime=\"2020-6-06\" itemprop=\"datePublished\" class=\"published\">2020年6月6日</time></li>\\n            \\n          </ul>\\n        </a></li>        <li id=\"978-4-297-11352-0\"><a itemprop=\"url\" href=\"/dp/ebook/2020/978-4-297-11352-0\">\\n          <img itemprop=\"image\" src=\"//image.gihyo.co.jp/assets/images/dummy.png\" width=\"100\" height=\"142\" data-image=\"https://image.gihyo.co.jp/assets/images/gdp/2020/thumb/TH100_978-4-297-11352-0.jpg,https://image.gihyo.co.jp/assets/images/gdp/2020/thumb/TH200_978-4-297-11352-0.jpg\" alt=\"カバー画像\"/>\\n          <p itemprop=\"name\" class=\"title\"><span class=\"series\">WEB+DB PRESS plus</span> オブジェクト指向<wbr/>UI<wbr/>デザイン<br/><span class=\"sub\">――使いやすいソフトウェアの原理</span></p>\\n          <p itemprop=\"author\" class=\"author\">ソシオメディア株式会社，<wbr/>上野学，<wbr/>藤井幸多\\u3000著，<wbr/>上野学\\u3000監修</p>\\n          <p itemprop=\"offers\" itemscope=\"itemscope\" itemtype=\"http://schema.org/Offer\" class=\"price\"><span itemprop=\"price\">2,980</span>円<meta itemprop=\"priceCurrency\" content=\"JPY\"/></p>\\n          <ul class=\"format\">\\n            <li class=\"pdf\">PDF</li><li class=\"epub\">EPUB</li>\\n          </ul>\\n          <ul class=\"date\">\\n            <li><time datetime=\"2020-6-05\" itemprop=\"datePublished\" class=\"published\">2020年6月5日</time></li>\\n            \\n          </ul>\\n        </a></li>        <li id=\"978-4-297-11404-6\"><a itemprop=\"url\" href=\"/dp/ebook/2020/978-4-297-11404-6\">\\n          <img itemprop=\"image\" src=\"//image.gihyo.co.jp/assets/images/dummy.png\" width=\"100\" height=\"140\" data-image=\"https://image.gihyo.co.jp/assets/images/gdp/2020/thumb/TH100_978-4-297-11404-6.jpg,https://image.gihyo.co.jp/assets/images/gdp/2020/thumb/TH200_978-4-297-11404-6.jpg\" alt=\"カバー画像\"/>\\n          <p itemprop=\"name\" class=\"title\">スタートダッシュ<wbr/>iOS<br/><span class=\"sub\">〜アプリエンジニアの必須ノウハウをサクっと押さえる</span></p>\\n          <p itemprop=\"author\" class=\"author\">諏訪悠紀，<wbr/>平屋真吾，<wbr/>前田翼，<wbr/>田辺信之\\u3000著</p>\\n          <p itemprop=\"offers\" itemscope=\"itemscope\" itemtype=\"http://schema.org/Offer\" class=\"price\"><span itemprop=\"price\">2,680</span>円<meta itemprop=\"priceCurrency\" content=\"JPY\"/></p>\\n          <ul class=\"format\">\\n            <li class=\"pdf\">PDF</li><li class=\"epub\">EPUB</li>\\n          </ul>\\n          <ul class=\"date\">\\n            <li><time datetime=\"2020-6-01\" itemprop=\"datePublished\" class=\"published\">2020年6月1日</time></li>\\n            \\n          </ul>\\n        </a></li>        <li id=\"978-4-297-11256-1\"><a itemprop=\"url\" href=\"/dp/ebook/2020/978-4-297-11256-1\">\\n          <img itemprop=\"image\" src=\"//image.gihyo.co.jp/assets/images/dummy.png\" width=\"100\" height=\"128\" data-image=\"https://image.gihyo.co.jp/assets/images/gdp/2020/thumb/TH100_978-4-297-11256-1.jpg,https://image.gihyo.co.jp/assets/images/gdp/2020/thumb/TH200_978-4-297-11256-1.jpg\" alt=\"カバー画像\"/>\\n          <p itemprop=\"name\" class=\"title\"><span class=\"series\">今すぐ使えるかんたん</span> 今すぐ使えるかんたん<br/>Jw_cad</p>\\n          <p itemprop=\"author\" class=\"author\">アヴニールCADシステムズ\\u3000代表\\u3000日野眞澄\\u3000著</p>\\n          <p itemprop=\"offers\" itemscope=\"itemscope\" itemtype=\"http://schema.org/Offer\" class=\"price\"><span itemprop=\"price\">2,780</span>円<meta itemprop=\"priceCurrency\" content=\"JPY\"/></p>\\n          <ul class=\"format\">\\n            <li class=\"pdf\">PDF</li>\\n          </ul>\\n          <ul class=\"date\">\\n            <li><time datetime=\"2020-6-01\" itemprop=\"datePublished\" class=\"published\">2020年6月1日</time></li>\\n            \\n          </ul>\\n        </a></li>        <li id=\"978-4-297-10775-8\"><a itemprop=\"url\" href=\"/dp/ebook/2020/978-4-297-10775-8\">\\n          <img itemprop=\"image\" src=\"//image.gihyo.co.jp/assets/images/dummy.png\" width=\"100\" height=\"141\" data-image=\"https://image.gihyo.co.jp/assets/images/gdp/2020/thumb/TH100_978-4-297-10775-8.jpg,https://image.gihyo.co.jp/assets/images/gdp/2020/thumb/TH200_978-4-297-10775-8.jpg\" alt=\"カバー画像\"/>\\n          <p itemprop=\"name\" class=\"title\"><span class=\"series\">世界一わかりやすい教科書</span> 世界一わかりやすい Maya はじめてのモデリングの教科書</p>\\n          <p itemprop=\"author\" class=\"author\">入江泰輔\\u3000著</p>\\n          <p itemprop=\"offers\" itemscope=\"itemscope\" itemtype=\"http://schema.org/Offer\" class=\"price\"><span itemprop=\"price\">3,980</span>円<meta itemprop=\"priceCurrency\" content=\"JPY\"/></p>\\n          <ul class=\"format\">\\n            <li class=\"pdf\">PDF</li>\\n          </ul>\\n          <ul class=\"date\">\\n            <li><time datetime=\"2020-5-30\" itemprop=\"datePublished\" class=\"published\">2020年5月30日</time></li>\\n            \\n          </ul>\\n        </a></li>        <li id=\"978-4-297-11350-6\"><a itemprop=\"url\" href=\"/dp/ebook/2020/978-4-297-11350-6\">\\n          <img itemprop=\"image\" src=\"//image.gihyo.co.jp/assets/images/dummy.png\" width=\"100\" height=\"144\" data-image=\"https://image.gihyo.co.jp/assets/images/gdp/2020/thumb/TH100_978-4-297-11350-6.jpg,https://image.gihyo.co.jp/assets/images/gdp/2020/thumb/TH200_978-4-297-11350-6.jpg\" alt=\"カバー画像\"/>\\n          <p itemprop=\"name\" class=\"title\">第二種電気工事士試験に合格するための電気数学</p>\\n          <p itemprop=\"author\" class=\"author\">電気と数学の学習会\\u3000著</p>\\n          <p itemprop=\"offers\" itemscope=\"itemscope\" itemtype=\"http://schema.org/Offer\" class=\"price\"><span itemprop=\"price\">1,980</span>円<meta itemprop=\"priceCurrency\" content=\"JPY\"/></p>\\n          <ul class=\"format\">\\n            <li class=\"pdf\">PDF</li>\\n          </ul>\\n          <ul class=\"date\">\\n            <li><time datetime=\"2020-5-28\" itemprop=\"datePublished\" class=\"published\">2020年5月28日</time></li>\\n            \\n          </ul>\\n        </a></li>        <li id=\"978-4-297-11396-4\"><a itemprop=\"url\" href=\"/dp/ebook/2020/978-4-297-11396-4\">\\n          <img itemprop=\"image\" src=\"//image.gihyo.co.jp/assets/images/dummy.png\" width=\"100\" height=\"142\" data-image=\"https://image.gihyo.co.jp/assets/images/gdp/2020/thumb/TH100_978-4-297-11396-4.jpg,https://image.gihyo.co.jp/assets/images/gdp/2020/thumb/TH200_978-4-297-11396-4.jpg\" alt=\"カバー画像\"/>\\n          <p itemprop=\"name\" class=\"title\"><span class=\"series\">情報処理技術者試験</span> 令和<wbr/>02-03<wbr/>年 IT<wbr/>ストラテジスト合格教本</p>\\n          <p itemprop=\"author\" class=\"author\">金子則彦\\u3000著</p>\\n          <p itemprop=\"offers\" itemscope=\"itemscope\" itemtype=\"http://schema.org/Offer\" class=\"price\"><span itemprop=\"price\">3,580</span>円<meta itemprop=\"priceCurrency\" content=\"JPY\"/></p>\\n          <ul class=\"format\">\\n            <li class=\"pdf\">PDF</li>\\n          </ul>\\n          <ul class=\"date\">\\n            <li><time datetime=\"2020-5-27\" itemprop=\"datePublished\" class=\"published\">2020年5月27日</time></li>\\n            \\n          </ul>\\n        </a></li>        <li id=\"978-4-297-11260-8\"><a itemprop=\"url\" href=\"/dp/ebook/2020/978-4-297-11260-8\">\\n          <img itemprop=\"image\" src=\"//image.gihyo.co.jp/assets/images/dummy.png\" width=\"100\" height=\"157\" data-image=\"https://image.gihyo.co.jp/assets/images/gdp/2020/thumb/TH100_978-4-297-11260-8.jpg,https://image.gihyo.co.jp/assets/images/gdp/2020/thumb/TH200_978-4-297-11260-8.jpg\" alt=\"カバー画像\"/>\\n          <p itemprop=\"name\" class=\"title\"><span class=\"series\">今すぐ使えるかんたん<wbr/>mini</span> 今すぐ使えるかんたんmini<br/>GoPro 基本＆<wbr/>応用 撮影ガイド<br/><span class=\"sub\">［改訂<wbr/>2<wbr/>版］</span></p>\\n          <p itemprop=\"author\" class=\"author\">ナイスク\\u3000著</p>\\n          <p itemprop=\"offers\" itemscope=\"itemscope\" itemtype=\"http://schema.org/Offer\" class=\"price\"><span itemprop=\"price\">1,580</span>円<meta itemprop=\"priceCurrency\" content=\"JPY\"/></p>\\n          <ul class=\"format\">\\n            <li class=\"pdf\">PDF</li>\\n          </ul>\\n          <ul class=\"date\">\\n            <li><time datetime=\"2020-5-27\" itemprop=\"datePublished\" class=\"published\">2020年5月27日</time></li>\\n            \\n          </ul>\\n        </a></li>        <li id=\"978-4-297-11358-2\"><a itemprop=\"url\" href=\"/dp/ebook/2020/978-4-297-11358-2\">\\n          <img itemprop=\"image\" src=\"//image.gihyo.co.jp/assets/images/dummy.png\" width=\"100\" height=\"147\" data-image=\"https://image.gihyo.co.jp/assets/images/gdp/2020/thumb/TH100_978-4-297-11358-2.jpg,https://image.gihyo.co.jp/assets/images/gdp/2020/thumb/TH200_978-4-297-11358-2.jpg\" alt=\"カバー画像\"/>\\n          <p itemprop=\"name\" class=\"title\">職場のざんねんな人図鑑<br/><span class=\"sub\">～やっかいなあの人の行動には、理由があった！</span></p>\\n          <p itemprop=\"author\" class=\"author\">石川幹人\\u3000著</p>\\n          <p itemprop=\"offers\" itemscope=\"itemscope\" itemtype=\"http://schema.org/Offer\" class=\"price\"><span itemprop=\"price\">1,480</span>円<meta itemprop=\"priceCurrency\" content=\"JPY\"/></p>\\n          <ul class=\"format\">\\n            <li class=\"pdf\">PDF</li><li class=\"epub\">EPUB</li>\\n          </ul>\\n          <ul class=\"date\">\\n            <li><time datetime=\"2020-5-25\" itemprop=\"datePublished\" class=\"published\">2020年5月25日</time></li>\\n            \\n          </ul>\\n        </a></li>\\n      </ul>\\n      <nav id=\"pagingBottom\">        <ul>\\n          <li><span class=\"prev\">―</span></li>\\n          <li class=\"paging-number\">1 - 30 / 2784</li>\\n          <li><a href=\"/dp?start=30\" title=\"次のページ\" class=\"next\">次</a></li>\\n        </ul>\\n      </nav>\\n    </div>\\n  </div>\\n  <footer id=\"footer\" itemscope=\"itemscope\" itemtype=\"http://www.schema.org/WPFooter\">\\n    <div id=\"wait\" class=\"hidden\"></div>\\n    <nav id=\"navigation\" itemscope=\"itemscope\" itemtype=\"http://www.schema.org/SiteNavigationElement\">\\n      <ul id=\"navigationLink\">\\n        <li id=\"navLinkHome\" class=\"current\"><a itemprop=\"url\" href=\"/dp\" title=\"ストア\" class=\"home\">ストア</a></li>\\n        <li id=\"navLinkMyPage\"><a itemprop=\"url\" href=\"/dp/my-page\" title=\"マイページ\" class=\"mypage\">マイページ</a></li>\\n        <li id=\"navLinkInfor\"><a itemprop=\"url\" href=\"/dp/information\" title=\"お知らせ\" class=\"information\">お知らせ</a></li>\\n        <li id=\"navLinkHelp\"><a itemprop=\"url\" href=\"/dp/help\" title=\"ヘルプ\" class=\"help\">ヘルプ</a></li>\\n      </ul>\\n    </nav>\\n    <nav id=\"function\" itemscope=\"itemscope\" itemtype=\"http://www.schema.org/WPSideBar\">\\n      <div id=\"backgroundWrapper\"></div>\\n      <div id=\"navInfor\"><p class=\"page\">1 - 30 / 2784</p></div>\\n    </nav>\\n    <div id=\"storeInformation\">\\n      <ul id=\"footerLink\">\\n        <li>Twitter: <a href=\"https://twitter.com/gihyoDP\">@gihyoDP</a></li>\\n        <li><a href=\"/dp/help/about/site\">このサイトについて</a></li>\\n        <li><a href=\"/dp/help/about/terms\">利用規約</a></li>\\n        <li><a href=\"/dp/help/about/privacy\">プライバシーポリシー</a></li>\\n        <li><a href=\"/dp/help/about/law\">特定商取引法に基づく表示</a></li>\\n      </ul>\\n      <p id=\"storeCopyright\"><small>Copyright © 2020 <span class=\"reserved\">All Rights Reserved by</span> <a href=\"/book\">Gijutsu-Hyohron Co., Ltd.</a></small></p>\\n    </div>\\n  </footer>\\n<script>var params={\"url\":\"https:\\\\/\\\\/gihyo.jp\\\\/dp\",\"path\":\"\\\\/dp\",\"body\":\"    <div id=\\\\\"bookList\\\\\">\\\\n      <h2>\\\\u5546\\\\u54c1\\\\u4e00\\\\u89a7<\\\\/h2>\\\\n      <div id=\\\\\"topNavigation\\\\\">\\\\n        <div id=\\\\\"filter\\\\\">\\\\n          <form id=\\\\\"search\\\\\" action=\\\\\"\\\\/dp\\\\\" method=\\\\\"get\\\\\">\\\\n            <input type=\\\\\"search\\\\\" name=\\\\\"query\\\\\" id=\\\\\"searchText\\\\\" title=\\\\\"\\\\u691c\\\\u7d22\\\\u3059\\\\u308b\\\\u5546\\\\u54c1\\\\u306e\\\\u30ad\\\\u30fc\\\\u30ef\\\\u30fc\\\\u30c9\\\\u3092\\\\u5165\\\\u529b\\\\\" placeholder=\\\\\"\\\\u5546\\\\u54c1\\\\u306e\\\\u30ad\\\\u30fc\\\\u30ef\\\\u30fc\\\\u30c9\\\\\" required=\\\\\"required\\\\\" value=\\\\\"\\\\\"\\\\/>\\\\n            <input type=\\\\\"submit\\\\\" id=\\\\\"searchSubmit\\\\\" value=\\\\\"\\\\u691c\\\\u7d22\\\\\" title=\\\\\"\\\\u691c\\\\u7d22\\\\u3059\\\\u308b\\\\\"\\\\/>\\\\n          <\\\\/form>\\\\n          <div id=\\\\\"select\\\\\">\\\\n            <a href=\\\\\"\\\\\" id=\\\\\"selectLabel\\\\\" title=\\\\\"\\\\u5546\\\\u54c1\\\\u30b8\\\\u30e3\\\\u30f3\\\\u30eb\\\\u3092\\\\u9078\\\\u629e\\\\u3059\\\\u308b\\\\\"><\\\\/a>\\\\n            <div id=\\\\\"selectMenu\\\\\">\\\\n              <ul id=\\\\\"selectMenuBody\\\\\"><\\\\/ul>\\\\n            <\\\\/div>\\\\n          <\\\\/div>\\\\n        <\\\\/div>\\\\n        <nav id=\\\\\"pagingTop\\\\\">\\\\n        <\\\\/nav>\\\\n      <\\\\/div>\\\\n      <ul itemprop=\\\\\"isPartOf\\\\\" itemscope=\\\\\"itemscope\\\\\" itemtype=\\\\\"http:\\\\/\\\\/www.schema.org\\\\/CollectionPage\\\\\" id=\\\\\"listBook\\\\\" class=\\\\\"list-book\\\\\">\\\\n      <\\\\/ul>\\\\n      <nav id=\\\\\"pagingBottom\\\\\">\\\\n      <\\\\/nav>\\\\n    <\\\\/div>\",\"isLogin\":false,\"dialog\":\"<aside id=\\\\\"dialog\\\\\" class=\\\\\"dialog-login\\\\\" style=\\\\\"opacity:0\\\\\">\\\\n  <div id=\\\\\"dialogBody\\\\\">\\\\n    <div id=\\\\\"gihyoAccount\\\\\">\\\\n      <h2>\\\\u30e1\\\\u30fc\\\\u30eb\\\\u30a2\\\\u30c9\\\\u30ec\\\\u30b9\\\\u3067\\\\u30ed\\\\u30b0\\\\u30a4\\\\u30f3<\\\\/h2>\\\\n      <form action=\\\\\"?login\\\\\" method=\\\\\"post\\\\\">\\\\n        <input type=\\\\\"hidden\\\\\" name=\\\\\"fid\\\\\" value=\\\\\"\\\\\"\\\\/>\\\\n        <dl>\\\\n          <dt>\\\\u30a2\\\\u30ab\\\\u30a6\\\\u30f3\\\\u30c8<\\\\/dt>\\\\n          <dd><input type=\\\\\"email\\\\\" name=\\\\\"account\\\\\" placeholder=\\\\\"\\\\u30e1\\\\u30fc\\\\u30eb\\\\u30a2\\\\u30c9\\\\u30ec\\\\u30b9\\\\\" required=\\\\\"required\\\\\" title=\\\\\"\\\\u30a2\\\\u30ab\\\\u30a6\\\\u30f3\\\\u30c8\\\\u306e\\\\u30e1\\\\u30fc\\\\u30eb\\\\u30a2\\\\u30c9\\\\u30ec\\\\u30b9\\\\u3092\\\\u5165\\\\u529b\\\\\"\\\\/><\\\\/dd>\\\\n          <dt>\\\\u30d1\\\\u30b9\\\\u30ef\\\\u30fc\\\\u30c9<\\\\/dt>\\\\n          <dd><input type=\\\\\"password\\\\\" name=\\\\\"password\\\\\" placeholder=\\\\\"\\\\u30d1\\\\u30b9\\\\u30ef\\\\u30fc\\\\u30c9\\\\\" required=\\\\\"required\\\\\" title=\\\\\"\\\\u30a2\\\\u30ab\\\\u30a6\\\\u30f3\\\\u30c8\\\\u306e\\\\u30d1\\\\u30b9\\\\u30ef\\\\u30fc\\\\u30c9\\\\u3092\\\\u5165\\\\u529b\\\\\"\\\\/><\\\\/dd>\\\\n        <\\\\/dl>\\\\n        <p id=\\\\\"loginButton\\\\\"><input type=\\\\\"submit\\\\\" value=\\\\\"\\\\u30ed\\\\u30b0\\\\u30a4\\\\u30f3\\\\\" title=\\\\\"\\\\u30ed\\\\u30b0\\\\u30a4\\\\u30f3\\\\u3059\\\\u308b\\\\\"\\\\/><\\\\/p>\\\\n        <ul id=\\\\\"loginFunction\\\\\">\\\\n          <li><a href=\\\\\"\\\\/dp\\\\/help\\\\/buy\\\\/forgot\\\\\">\\\\u30d1\\\\u30b9\\\\u30ef\\\\u30fc\\\\u30c9\\\\u3092\\\\u304a\\\\u5fd8\\\\u308c\\\\u306e\\\\u65b9<\\\\/a><\\\\/li>\\\\n          <li><a href=\\\\\"\\\\/dp\\\\/help\\\\/buy\\\\/account\\\\\">\\\\u65b0\\\\u898f\\\\u767b\\\\u9332\\\\u3092\\\\u3054\\\\u5e0c\\\\u671b\\\\u306e\\\\u65b9<\\\\/a><\\\\/li>\\\\n        <\\\\/ul>\\\\n      <\\\\/form>\\\\n    <\\\\/div>\\\\n    <div id=\\\\\"externalSite\\\\\">\\\\n      <h2>\\\\u5916\\\\u90e8\\\\u30b5\\\\u30fc\\\\u30d3\\\\u30b9\\\\u3067\\\\u30ed\\\\u30b0\\\\u30a4\\\\u30f3<\\\\/h2>\\\\n      <ul>\\\\n      <li class=\\\\\"google\\\\\"><a href=\\\\\"https:\\\\/\\\\/gihyo.jp\\\\/auth\\\\/google\\\\\">Google<\\\\/a><\\\\/li>\\\\n      <li class=\\\\\"facebook\\\\\"><a href=\\\\\"https:\\\\/\\\\/gihyo.jp\\\\/auth\\\\/facebook\\\\\">Facebook<\\\\/a><\\\\/li>\\\\n      <li class=\\\\\"yahoo\\\\\"><a href=\\\\\"https:\\\\/\\\\/gihyo.jp\\\\/auth\\\\/yahoojp\\\\\">Yahoo! JAPAN<\\\\/a><\\\\/li>\\\\n      <\\\\/ul>\\\\n      <p><a href=\\\\\"\\\\/dp\\\\/help\\\\/buy\\\\/external\\\\\">\\\\u5916\\\\u90e8\\\\u30b5\\\\u30fc\\\\u30d3\\\\u30b9\\\\u3067\\\\u306e\\\\u30ed\\\\u30b0\\\\u30a4\\\\u30f3\\\\u306b\\\\u3064\\\\u3044\\\\u3066<\\\\/a><\\\\/p>\\\\n    <\\\\/div>\\\\n    <p id=\\\\\"close\\\\\"><a href=\\\\\"#close\\\\\" title=\\\\\"\\\\u9589\\\\u3058\\\\u308b\\\\\">\\\\u9589\\\\u3058\\\\u308b<\\\\/a><\\\\/p>\\\\n  <\\\\/div>\\\\n<\\\\/aside>\"}</script>\\n  <script>var asyncCall=function(){var e=Array.prototype.slice,a=Function.prototype.bind||function(j){var a=this,b=e.call(arguments,1);return function(){var c=e.call(arguments);return a.apply(j,b.concat(c))}},f=a.call(a,Function.prototype.call),b=f(e),c=f(a),d=f(Function.prototype.apply);if(\"undefined\"!==typeof process)a=function(){var a=b(arguments);process.nextTick(d(c,null,a))};else if(\"function\"===typeof setImmediate)a=function(){var a=b(arguments);setImmediate(d(c,null,a))};else if(\"function\"===typeof MessageChannel){var g=new MessageChannel,h=[];g.port1.onmessage=function(){h.shift()()};a=function(){var a=b(arguments);h.push(d(c,null,a));g.port2.postMessage(0)}}else a=function(){var a=b(arguments);setTimeout(d(c,null,a),0)};return a}();window.onerror=function(mes,fname,lnum){var erIgnore=[\\'top.GLOBALS\\',\\'originalCreateNotification\\',\\'canvas.contentDocument\\',\\'fb_xd_fragment\\',\\'Script error.\\'];for(i=0;i<erIgnore.length;i++){if(mes.indexOf(erIgnore[i])>-1){return false;}};var mes=\\'message:\\'+mes+\\', file:\\'+fname+\\', line:\\'+lnum+\\', href:\\'+location.href+\\', UA:\\'+window.navigator.userAgent;ga(\\'send\\',\\'event\\',\\'Error\\',\\'JSError\\',mes);};</script>\\n  <script src=\"//platform.twitter.com/widgets.js\" id=\"twitter-wjs\" async defer></script>\\n  <script src=\"//connect.facebook.net/ja_JP/sdk.js#xfbml=1&appId=185201618169441&version=v2.8\" id=\"facebook-jssdk\" async defer></script>\\n  <script src=\"//apis.google.com/js/platform.js\" async defer></script>\\n  <script src=\"//b.hatena.ne.jp/js/bookmark_button.js\" charset=\"utf-8\" async defer></script>\\n</body>\\n</html>'"
      ]
     },
     "execution_count": 56,
     "metadata": {},
     "output_type": "execute_result"
    }
   ],
   "source": [
    "response.text"
   ]
  },
  {
   "cell_type": "code",
   "execution_count": 4,
   "metadata": {},
   "outputs": [],
   "source": [
    "html = lxml.html.fromstring(response.text)"
   ]
  },
  {
   "cell_type": "code",
   "execution_count": 18,
   "metadata": {},
   "outputs": [],
   "source": [
    "html.base"
   ]
  },
  {
   "cell_type": "code",
   "execution_count": 6,
   "metadata": {},
   "outputs": [
    {
     "data": {
      "text/plain": [
       "'https://gihyo.jp/dp'"
      ]
     },
     "execution_count": 6,
     "metadata": {},
     "output_type": "execute_result"
    }
   ],
   "source": [
    "response.url\n"
   ]
  },
  {
   "cell_type": "code",
   "execution_count": 46,
   "metadata": {},
   "outputs": [
    {
     "name": "stdout",
     "output_type": "stream",
     "text": [
      "https://gihyo.jp/dp/ebook/2020/978-4-297-11449-7\n",
      "https://gihyo.jp/dp/ebook/2020/978-4-297-11443-5\n",
      "https://gihyo.jp/dp/ebook/2020/978-4-297-11467-1\n",
      "https://gihyo.jp/dp/ebook/2020/978-4-297-11380-3\n",
      "https://gihyo.jp/dp/ebook/2020/978-4-297-11376-6\n",
      "https://gihyo.jp/dp/ebook/2020/978-4-297-11366-7\n",
      "https://gihyo.jp/dp/ebook/2020/978-4-297-11402-2\n",
      "https://gihyo.jp/dp/ebook/2020/978-4-297-11398-8\n",
      "https://gihyo.jp/dp/ebook/2020/978-4-297-11282-0\n",
      "https://gihyo.jp/dp/ebook/2020/978-4-297-11382-7\n",
      "https://gihyo.jp/dp/ebook/2020/978-4-297-11390-2\n",
      "https://gihyo.jp/dp/ebook/2020/978-4-297-11388-9\n",
      "https://gihyo.jp/dp/ebook/2020/978-4-297-11386-5\n",
      "https://gihyo.jp/dp/ebook/2020/978-4-297-11406-0\n",
      "https://gihyo.jp/dp/ebook/2020/978-4-297-11408-4\n",
      "https://gihyo.jp/dp/ebook/2020/978-4-297-11246-2\n",
      "https://gihyo.jp/dp/ebook/2020/978-4-297-11457-2\n",
      "https://gihyo.jp/dp/ebook/2020/978-4-297-11459-6\n",
      "https://gihyo.jp/dp/ebook/2020/978-4-297-11461-9\n",
      "https://gihyo.jp/dp/ebook/2020/978-4-297-11378-0\n",
      "https://gihyo.jp/dp/ebook/2020/978-4-297-11372-8\n",
      "https://gihyo.jp/dp/ebook/2020/978-4-297-11275-2\n",
      "https://gihyo.jp/dp/ebook/2020/978-4-297-11352-0\n",
      "https://gihyo.jp/dp/ebook/2020/978-4-297-11404-6\n",
      "https://gihyo.jp/dp/ebook/2020/978-4-297-11256-1\n",
      "https://gihyo.jp/dp/ebook/2020/978-4-297-10775-8\n",
      "https://gihyo.jp/dp/ebook/2020/978-4-297-11350-6\n",
      "https://gihyo.jp/dp/ebook/2020/978-4-297-11396-4\n",
      "https://gihyo.jp/dp/ebook/2020/978-4-297-11260-8\n",
      "https://gihyo.jp/dp/ebook/2020/978-4-297-11358-2\n"
     ]
    }
   ],
   "source": [
    "for a in html.cssselect('#listBook>li>a[itemprop=\"url\"]'):\n",
    "    url = a.get('href')\n",
    "    print(url)"
   ]
  },
  {
   "cell_type": "code",
   "execution_count": 50,
   "metadata": {},
   "outputs": [],
   "source": [
    "for h3 in html.cssselect('#content > h3'):\n",
    "    print(h3.text_content())"
   ]
  },
  {
   "cell_type": "code",
   "execution_count": 51,
   "metadata": {},
   "outputs": [],
   "source": [
    "html = lxml.html.fromstring(response.text)"
   ]
  },
  {
   "cell_type": "code",
   "execution_count": 52,
   "metadata": {},
   "outputs": [
    {
     "data": {
      "text/plain": [
       "<Element html at 0x7f698d6f01d0>"
      ]
     },
     "execution_count": 52,
     "metadata": {},
     "output_type": "execute_result"
    }
   ],
   "source": [
    "html"
   ]
  },
  {
   "cell_type": "code",
   "execution_count": 53,
   "metadata": {},
   "outputs": [
    {
     "data": {
      "text/plain": [
       "'<Element html at 0x7f698d6f01d0>'"
      ]
     },
     "execution_count": 53,
     "metadata": {},
     "output_type": "execute_result"
    }
   ],
   "source": [
    "str(html)"
   ]
  },
  {
   "cell_type": "code",
   "execution_count": 26,
   "metadata": {},
   "outputs": [],
   "source": [
    "html.make_links_absolute(response.url)"
   ]
  },
  {
   "cell_type": "code",
   "execution_count": 47,
   "metadata": {},
   "outputs": [],
   "source": [
    "items = html.cssselect('#listBook>li>a[itemprop=\"url\"]')"
   ]
  },
  {
   "cell_type": "code",
   "execution_count": 49,
   "metadata": {},
   "outputs": [
    {
     "ename": "AttributeError",
     "evalue": "'list' object has no attribute 'get'",
     "output_type": "error",
     "traceback": [
      "\u001b[0;31m---------------------------------------------------------------------------\u001b[0m",
      "\u001b[0;31mAttributeError\u001b[0m                            Traceback (most recent call last)",
      "\u001b[0;32m<ipython-input-49-971c5655af77>\u001b[0m in \u001b[0;36m<module>\u001b[0;34m\u001b[0m\n\u001b[0;32m----> 1\u001b[0;31m \u001b[0mitems\u001b[0m\u001b[0;34m.\u001b[0m\u001b[0mget\u001b[0m\u001b[0;34m(\u001b[0m\u001b[0;34m'href'\u001b[0m\u001b[0;34m)\u001b[0m\u001b[0;34m\u001b[0m\u001b[0;34m\u001b[0m\u001b[0m\n\u001b[0m",
      "\u001b[0;31mAttributeError\u001b[0m: 'list' object has no attribute 'get'"
     ]
    }
   ],
   "source": []
  },
  {
   "cell_type": "code",
   "execution_count": 30,
   "metadata": {},
   "outputs": [
    {
     "data": {
      "text/plain": [
       "'https://gihyo.jp/dp/ebook/2020/978-4-297-11358-2'"
      ]
     },
     "execution_count": 30,
     "metadata": {},
     "output_type": "execute_result"
    }
   ],
   "source": [
    "url"
   ]
  },
  {
   "cell_type": "code",
   "execution_count": 31,
   "metadata": {},
   "outputs": [
    {
     "data": {
      "text/plain": [
       "48"
      ]
     },
     "execution_count": 31,
     "metadata": {},
     "output_type": "execute_result"
    }
   ],
   "source": [
    "len(url)"
   ]
  },
  {
   "cell_type": "code",
   "execution_count": 32,
   "metadata": {},
   "outputs": [],
   "source": [
    "a = html.cssselect('#listBook>li>a[itemprop=\"url\"]')"
   ]
  },
  {
   "cell_type": "code",
   "execution_count": 36,
   "metadata": {},
   "outputs": [
    {
     "name": "stdout",
     "output_type": "stream",
     "text": [
      "https://gihyo.jp/dp/ebook/2020/978-4-297-11449-7\n",
      "https://gihyo.jp/dp/ebook/2020/978-4-297-11443-5\n",
      "https://gihyo.jp/dp/ebook/2020/978-4-297-11467-1\n",
      "https://gihyo.jp/dp/ebook/2020/978-4-297-11380-3\n",
      "https://gihyo.jp/dp/ebook/2020/978-4-297-11376-6\n",
      "https://gihyo.jp/dp/ebook/2020/978-4-297-11366-7\n",
      "https://gihyo.jp/dp/ebook/2020/978-4-297-11402-2\n",
      "https://gihyo.jp/dp/ebook/2020/978-4-297-11398-8\n",
      "https://gihyo.jp/dp/ebook/2020/978-4-297-11282-0\n",
      "https://gihyo.jp/dp/ebook/2020/978-4-297-11382-7\n",
      "https://gihyo.jp/dp/ebook/2020/978-4-297-11390-2\n",
      "https://gihyo.jp/dp/ebook/2020/978-4-297-11388-9\n",
      "https://gihyo.jp/dp/ebook/2020/978-4-297-11386-5\n",
      "https://gihyo.jp/dp/ebook/2020/978-4-297-11406-0\n",
      "https://gihyo.jp/dp/ebook/2020/978-4-297-11408-4\n",
      "https://gihyo.jp/dp/ebook/2020/978-4-297-11246-2\n",
      "https://gihyo.jp/dp/ebook/2020/978-4-297-11457-2\n",
      "https://gihyo.jp/dp/ebook/2020/978-4-297-11459-6\n",
      "https://gihyo.jp/dp/ebook/2020/978-4-297-11461-9\n",
      "https://gihyo.jp/dp/ebook/2020/978-4-297-11378-0\n",
      "https://gihyo.jp/dp/ebook/2020/978-4-297-11372-8\n",
      "https://gihyo.jp/dp/ebook/2020/978-4-297-11275-2\n",
      "https://gihyo.jp/dp/ebook/2020/978-4-297-11352-0\n",
      "https://gihyo.jp/dp/ebook/2020/978-4-297-11404-6\n",
      "https://gihyo.jp/dp/ebook/2020/978-4-297-11256-1\n",
      "https://gihyo.jp/dp/ebook/2020/978-4-297-10775-8\n",
      "https://gihyo.jp/dp/ebook/2020/978-4-297-11350-6\n",
      "https://gihyo.jp/dp/ebook/2020/978-4-297-11396-4\n",
      "https://gihyo.jp/dp/ebook/2020/978-4-297-11260-8\n",
      "https://gihyo.jp/dp/ebook/2020/978-4-297-11358-2\n"
     ]
    }
   ],
   "source": [
    "for a in html.cssselect('#listBook>li>a[itemprop=\"url\"]'):\n",
    "    url = a.get('href')\n",
    "    print(url)"
   ]
  },
  {
   "cell_type": "code",
   "execution_count": 37,
   "metadata": {},
   "outputs": [
    {
     "data": {
      "text/plain": [
       "lxml.html.HtmlElement"
      ]
     },
     "execution_count": 37,
     "metadata": {},
     "output_type": "execute_result"
    }
   ],
   "source": [
    "type(a)"
   ]
  },
  {
   "cell_type": "code",
   "execution_count": null,
   "metadata": {},
   "outputs": [],
   "source": []
  }
 ],
 "metadata": {
  "kernelspec": {
   "display_name": "Python 3",
   "language": "python",
   "name": "python3"
  },
  "language_info": {
   "codemirror_mode": {
    "name": "ipython",
    "version": 3
   },
   "file_extension": ".py",
   "mimetype": "text/x-python",
   "name": "python",
   "nbconvert_exporter": "python",
   "pygments_lexer": "ipython3",
   "version": "3.7.6"
  }
 },
 "nbformat": 4,
 "nbformat_minor": 4
}
